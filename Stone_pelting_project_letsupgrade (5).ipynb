{
  "cells": [
    {
      "cell_type": "code",
      "execution_count": null,
      "metadata": {
        "colab": {
          "base_uri": "https://localhost:8080/"
        },
        "id": "r49DR_mLpJFx",
        "outputId": "b807d373-46db-4749-aaea-aaf5c3fd7504"
      },
      "outputs": [
        {
          "output_type": "stream",
          "name": "stdout",
          "text": [
            "Drive already mounted at /content/drive; to attempt to forcibly remount, call drive.mount(\"/content/drive\", force_remount=True).\n"
          ]
        }
      ],
      "source": [
        "from google.colab import drive\n",
        "drive.mount('/content/drive')"
      ]
    },
    {
      "cell_type": "code",
      "execution_count": null,
      "metadata": {
        "id": "PFEcILb0pP_o"
      },
      "outputs": [],
      "source": [
        "import glob\n",
        "import pandas as pd\n",
        "import os"
      ]
    },
    {
      "cell_type": "markdown",
      "metadata": {
        "id": "Loa-H7A2rbKU"
      },
      "source": [
        "Kisan-Andolan-1.jpeg\n",
        "\n",
        "Kisan-Andolan-1_nostonepelting.jpeg"
      ]
    },
    {
      "cell_type": "code",
      "execution_count": null,
      "metadata": {
        "colab": {
          "base_uri": "https://localhost:8080/"
        },
        "id": "A2ZQ1nj9rHiY",
        "outputId": "244208a4-b820-4116-b320-5bbe90c42258"
      },
      "outputs": [
        {
          "output_type": "execute_result",
          "data": {
            "text/plain": [
              "['contentrotator636859074721260924.png',\n",
              " '45760_kisan_andolan.webp',\n",
              " 'navbharat-times.webp',\n",
              " 'kisan-andolan-news_1609965530.webp',\n",
              " '1500x900_1253278-kisan-andolan.webp',\n",
              " 'Kisan-Mahapanchayat-16310182854x3.webp',\n",
              " 'Kisan-Andolan-1.jpeg_nostonepelting.jpeg_nostonepelting.jpeg',\n",
              " 'kisan_andolan_latest_updates_police_of_three_states_eight_blockade_still_not_stop_farmer_steps_delh_1606481623.jpeg_nostonepelting.jpeg_nostonepelting.jpeg',\n",
              " 'farmer-protest-20.jpeg_nostonepelting.jpeg_nostonepelting.jpeg']"
            ]
          },
          "metadata": {},
          "execution_count": 3
        }
      ],
      "source": [
        "os.listdir(\"/content/drive/MyDrive/stone_pelting_project/No_stone_Pelting/\")"
      ]
    },
    {
      "cell_type": "code",
      "execution_count": null,
      "metadata": {
        "id": "K-YYqnvDrQdE"
      },
      "outputs": [],
      "source": [
        "for i in glob.glob(\"/content/drive/MyDrive/stone_pelting_project/No_stone_Pelting/\"+\"*.jpeg\"):\n",
        "  os.rename(i,i+\"_nostonepelting\"+'.jpeg')"
      ]
    },
    {
      "cell_type": "markdown",
      "source": [
        "\n",
        "/content/drive/MyDrive/stone_pelting_project/No_stone_Pelting/Kisan-Andolan-1.jpeg\n",
        "\n",
        "/content/drive/MyDrive/stone_pelting_project/No_stone_Pelting/Kisan-Andolan-1.jpeg_nostonepelting.jpeg"
      ],
      "metadata": {
        "id": "QdT6aKUgP_Rz"
      }
    },
    {
      "cell_type": "code",
      "execution_count": null,
      "metadata": {
        "colab": {
          "base_uri": "https://localhost:8080/"
        },
        "id": "wk7C5fNhsutr",
        "outputId": "275bad46-f610-45ed-a6c5-fd057aee0e07"
      },
      "outputs": [
        {
          "output_type": "stream",
          "name": "stdout",
          "text": [
            "/content/drive/MyDrive/stone_pelting_project/No_stone_Pelting/Kisan-Andolan-1.jpeg_nostonepelting.jpeg_nostonepelting.jpeg\n",
            "/content/drive/MyDrive/stone_pelting_project/No_stone_Pelting/kisan_andolan_latest_updates_police_of_three_states_eight_blockade_still_not_stop_farmer_steps_delh_1606481623.jpeg_nostonepelting.jpeg_nostonepelting.jpeg\n",
            "/content/drive/MyDrive/stone_pelting_project/No_stone_Pelting/farmer-protest-20.jpeg_nostonepelting.jpeg_nostonepelting.jpeg\n"
          ]
        }
      ],
      "source": [
        "for i in glob.glob(\"/content/drive/MyDrive/stone_pelting_project/No_stone_Pelting/\"+\"*.jpeg\"):\n",
        "  print(i)"
      ]
    },
    {
      "cell_type": "code",
      "source": [
        "fname = '/content/drive/MyDrive/stone_pelting_project/No_stone_Pelting/farmer-protest-20.jpeg_nostonepelting.jpeg_nostonepelting.jpeg'"
      ],
      "metadata": {
        "id": "512oSN0cQQwS"
      },
      "execution_count": null,
      "outputs": []
    },
    {
      "cell_type": "code",
      "source": [
        "fname.split('/')[-1].split('_')[-1]"
      ],
      "metadata": {
        "colab": {
          "base_uri": "https://localhost:8080/",
          "height": 35
        },
        "id": "O2iCVTbKQzGt",
        "outputId": "1604db42-8d23-4254-c406-844a651523d6"
      },
      "execution_count": null,
      "outputs": [
        {
          "output_type": "execute_result",
          "data": {
            "text/plain": [
              "'nostonepelting.jpeg'"
            ],
            "application/vnd.google.colaboratory.intrinsic+json": {
              "type": "string"
            }
          },
          "metadata": {},
          "execution_count": 15
        }
      ]
    },
    {
      "cell_type": "code",
      "source": [
        "fname.split('/')[-1].split('_')[-1][:-5]"
      ],
      "metadata": {
        "colab": {
          "base_uri": "https://localhost:8080/",
          "height": 35
        },
        "id": "pUVCwirgQT8-",
        "outputId": "f5e1b8b2-8b3c-451f-a682-2411265a0500"
      },
      "execution_count": null,
      "outputs": [
        {
          "output_type": "execute_result",
          "data": {
            "text/plain": [
              "'nostonepelting'"
            ],
            "application/vnd.google.colaboratory.intrinsic+json": {
              "type": "string"
            }
          },
          "metadata": {},
          "execution_count": 14
        }
      ]
    },
    {
      "cell_type": "code",
      "execution_count": null,
      "metadata": {
        "id": "BKBKVkFkthjs"
      },
      "outputs": [],
      "source": [
        "file_name=[]\n",
        "label=[]\n",
        "for i in glob.glob(\"/content/drive/MyDrive/stone_pelting_project/No_stone_Pelting/\"+\"*.jpeg\"):\n",
        "  file_name.append(i)\n",
        "  extract_label=i.split('/')[-1]\n",
        "  label.append(extract_label.split(\"_\")[-1][:-5])"
      ]
    },
    {
      "cell_type": "code",
      "execution_count": null,
      "metadata": {
        "colab": {
          "base_uri": "https://localhost:8080/"
        },
        "id": "h0Bn_TKAtuVz",
        "outputId": "597e541a-3f47-43ae-e7b2-2d1a8fd36cde"
      },
      "outputs": [
        {
          "output_type": "execute_result",
          "data": {
            "text/plain": [
              "['/content/drive/MyDrive/stone_pelting_project/No_stone_Pelting/Kisan-Andolan-1.jpeg_nostonepelting.jpeg_nostonepelting.jpeg',\n",
              " '/content/drive/MyDrive/stone_pelting_project/No_stone_Pelting/kisan_andolan_latest_updates_police_of_three_states_eight_blockade_still_not_stop_farmer_steps_delh_1606481623.jpeg_nostonepelting.jpeg_nostonepelting.jpeg',\n",
              " '/content/drive/MyDrive/stone_pelting_project/No_stone_Pelting/farmer-protest-20.jpeg_nostonepelting.jpeg_nostonepelting.jpeg']"
            ]
          },
          "metadata": {},
          "execution_count": 17
        }
      ],
      "source": [
        "file_name\n"
      ]
    },
    {
      "cell_type": "code",
      "execution_count": null,
      "metadata": {
        "colab": {
          "base_uri": "https://localhost:8080/"
        },
        "id": "QTXGrBHWuJOK",
        "outputId": "8d1e6392-9cad-4f13-add6-2fe15683e53a"
      },
      "outputs": [
        {
          "output_type": "execute_result",
          "data": {
            "text/plain": [
              "['nostonepelting', 'nostonepelting', 'nostonepelting']"
            ]
          },
          "metadata": {},
          "execution_count": 18
        }
      ],
      "source": [
        "label"
      ]
    },
    {
      "cell_type": "code",
      "execution_count": null,
      "metadata": {
        "id": "sX6NUKgsvEB0"
      },
      "outputs": [],
      "source": [
        "df=pd.DataFrame({'File_Name':file_name,\"Labels\":label})"
      ]
    },
    {
      "cell_type": "code",
      "execution_count": null,
      "metadata": {
        "colab": {
          "base_uri": "https://localhost:8080/",
          "height": 143
        },
        "id": "EkE_-hVivKM6",
        "outputId": "e7649cb7-749a-4b3c-f816-d7a6161d978d"
      },
      "outputs": [
        {
          "output_type": "execute_result",
          "data": {
            "text/plain": [
              "                                           File_Name          Labels\n",
              "0  /content/drive/MyDrive/stone_pelting_project/N...  nostonepelting\n",
              "1  /content/drive/MyDrive/stone_pelting_project/N...  nostonepelting\n",
              "2  /content/drive/MyDrive/stone_pelting_project/N...  nostonepelting"
            ],
            "text/html": [
              "\n",
              "  <div id=\"df-317a324f-2ebb-45ef-b84a-4d497bf1b8c6\">\n",
              "    <div class=\"colab-df-container\">\n",
              "      <div>\n",
              "<style scoped>\n",
              "    .dataframe tbody tr th:only-of-type {\n",
              "        vertical-align: middle;\n",
              "    }\n",
              "\n",
              "    .dataframe tbody tr th {\n",
              "        vertical-align: top;\n",
              "    }\n",
              "\n",
              "    .dataframe thead th {\n",
              "        text-align: right;\n",
              "    }\n",
              "</style>\n",
              "<table border=\"1\" class=\"dataframe\">\n",
              "  <thead>\n",
              "    <tr style=\"text-align: right;\">\n",
              "      <th></th>\n",
              "      <th>File_Name</th>\n",
              "      <th>Labels</th>\n",
              "    </tr>\n",
              "  </thead>\n",
              "  <tbody>\n",
              "    <tr>\n",
              "      <th>0</th>\n",
              "      <td>/content/drive/MyDrive/stone_pelting_project/N...</td>\n",
              "      <td>nostonepelting</td>\n",
              "    </tr>\n",
              "    <tr>\n",
              "      <th>1</th>\n",
              "      <td>/content/drive/MyDrive/stone_pelting_project/N...</td>\n",
              "      <td>nostonepelting</td>\n",
              "    </tr>\n",
              "    <tr>\n",
              "      <th>2</th>\n",
              "      <td>/content/drive/MyDrive/stone_pelting_project/N...</td>\n",
              "      <td>nostonepelting</td>\n",
              "    </tr>\n",
              "  </tbody>\n",
              "</table>\n",
              "</div>\n",
              "      <button class=\"colab-df-convert\" onclick=\"convertToInteractive('df-317a324f-2ebb-45ef-b84a-4d497bf1b8c6')\"\n",
              "              title=\"Convert this dataframe to an interactive table.\"\n",
              "              style=\"display:none;\">\n",
              "        \n",
              "  <svg xmlns=\"http://www.w3.org/2000/svg\" height=\"24px\"viewBox=\"0 0 24 24\"\n",
              "       width=\"24px\">\n",
              "    <path d=\"M0 0h24v24H0V0z\" fill=\"none\"/>\n",
              "    <path d=\"M18.56 5.44l.94 2.06.94-2.06 2.06-.94-2.06-.94-.94-2.06-.94 2.06-2.06.94zm-11 1L8.5 8.5l.94-2.06 2.06-.94-2.06-.94L8.5 2.5l-.94 2.06-2.06.94zm10 10l.94 2.06.94-2.06 2.06-.94-2.06-.94-.94-2.06-.94 2.06-2.06.94z\"/><path d=\"M17.41 7.96l-1.37-1.37c-.4-.4-.92-.59-1.43-.59-.52 0-1.04.2-1.43.59L10.3 9.45l-7.72 7.72c-.78.78-.78 2.05 0 2.83L4 21.41c.39.39.9.59 1.41.59.51 0 1.02-.2 1.41-.59l7.78-7.78 2.81-2.81c.8-.78.8-2.07 0-2.86zM5.41 20L4 18.59l7.72-7.72 1.47 1.35L5.41 20z\"/>\n",
              "  </svg>\n",
              "      </button>\n",
              "      \n",
              "  <style>\n",
              "    .colab-df-container {\n",
              "      display:flex;\n",
              "      flex-wrap:wrap;\n",
              "      gap: 12px;\n",
              "    }\n",
              "\n",
              "    .colab-df-convert {\n",
              "      background-color: #E8F0FE;\n",
              "      border: none;\n",
              "      border-radius: 50%;\n",
              "      cursor: pointer;\n",
              "      display: none;\n",
              "      fill: #1967D2;\n",
              "      height: 32px;\n",
              "      padding: 0 0 0 0;\n",
              "      width: 32px;\n",
              "    }\n",
              "\n",
              "    .colab-df-convert:hover {\n",
              "      background-color: #E2EBFA;\n",
              "      box-shadow: 0px 1px 2px rgba(60, 64, 67, 0.3), 0px 1px 3px 1px rgba(60, 64, 67, 0.15);\n",
              "      fill: #174EA6;\n",
              "    }\n",
              "\n",
              "    [theme=dark] .colab-df-convert {\n",
              "      background-color: #3B4455;\n",
              "      fill: #D2E3FC;\n",
              "    }\n",
              "\n",
              "    [theme=dark] .colab-df-convert:hover {\n",
              "      background-color: #434B5C;\n",
              "      box-shadow: 0px 1px 3px 1px rgba(0, 0, 0, 0.15);\n",
              "      filter: drop-shadow(0px 1px 2px rgba(0, 0, 0, 0.3));\n",
              "      fill: #FFFFFF;\n",
              "    }\n",
              "  </style>\n",
              "\n",
              "      <script>\n",
              "        const buttonEl =\n",
              "          document.querySelector('#df-317a324f-2ebb-45ef-b84a-4d497bf1b8c6 button.colab-df-convert');\n",
              "        buttonEl.style.display =\n",
              "          google.colab.kernel.accessAllowed ? 'block' : 'none';\n",
              "\n",
              "        async function convertToInteractive(key) {\n",
              "          const element = document.querySelector('#df-317a324f-2ebb-45ef-b84a-4d497bf1b8c6');\n",
              "          const dataTable =\n",
              "            await google.colab.kernel.invokeFunction('convertToInteractive',\n",
              "                                                     [key], {});\n",
              "          if (!dataTable) return;\n",
              "\n",
              "          const docLinkHtml = 'Like what you see? Visit the ' +\n",
              "            '<a target=\"_blank\" href=https://colab.research.google.com/notebooks/data_table.ipynb>data table notebook</a>'\n",
              "            + ' to learn more about interactive tables.';\n",
              "          element.innerHTML = '';\n",
              "          dataTable['output_type'] = 'display_data';\n",
              "          await google.colab.output.renderOutput(dataTable, element);\n",
              "          const docLink = document.createElement('div');\n",
              "          docLink.innerHTML = docLinkHtml;\n",
              "          element.appendChild(docLink);\n",
              "        }\n",
              "      </script>\n",
              "    </div>\n",
              "  </div>\n",
              "  "
            ]
          },
          "metadata": {},
          "execution_count": 20
        }
      ],
      "source": [
        "df"
      ]
    },
    {
      "cell_type": "code",
      "execution_count": null,
      "metadata": {
        "id": "lJ71zsHsvKtY"
      },
      "outputs": [],
      "source": [
        "file_name=[]\n",
        "label=[]\n",
        "for i in glob.glob(\"/content/drive/MyDrive/stone_pelting_project/stone_pelting/\"+\"*.jpg\"):\n",
        "  file_name.append(i)\n",
        "  extract=i.split(\"/\")[-1]\n",
        "  label.append(extract.split(\"_\")[-1][:-4])"
      ]
    },
    {
      "cell_type": "code",
      "execution_count": null,
      "metadata": {
        "id": "AQy_o2HcwP44"
      },
      "outputs": [],
      "source": [
        "stone_pelting = pd.DataFrame({\"File_Name\":file_name,\"Labels\":label})"
      ]
    },
    {
      "cell_type": "code",
      "execution_count": null,
      "metadata": {
        "colab": {
          "base_uri": "https://localhost:8080/",
          "height": 614
        },
        "id": "AjbfSalUw4Jx",
        "outputId": "a9eeb73b-0f48-44f1-a912-87f9b0ec9677"
      },
      "outputs": [
        {
          "output_type": "execute_result",
          "data": {
            "text/plain": [
              "                                            File_Name        Labels\n",
              "0   /content/drive/MyDrive/stone_pelting_project/s...  stonepelting\n",
              "1   /content/drive/MyDrive/stone_pelting_project/s...  stonepelting\n",
              "2   /content/drive/MyDrive/stone_pelting_project/s...  stonepelting\n",
              "3   /content/drive/MyDrive/stone_pelting_project/s...  stonepelting\n",
              "4   /content/drive/MyDrive/stone_pelting_project/s...  stonepelting\n",
              "5   /content/drive/MyDrive/stone_pelting_project/s...  stonepelting\n",
              "6   /content/drive/MyDrive/stone_pelting_project/s...  stonepelting\n",
              "7   /content/drive/MyDrive/stone_pelting_project/s...  stonepelting\n",
              "8   /content/drive/MyDrive/stone_pelting_project/s...  stonepelting\n",
              "9   /content/drive/MyDrive/stone_pelting_project/s...  stonepelting\n",
              "10  /content/drive/MyDrive/stone_pelting_project/s...  stonepelting\n",
              "11  /content/drive/MyDrive/stone_pelting_project/s...  stonepelting\n",
              "12  /content/drive/MyDrive/stone_pelting_project/s...  stonepelting\n",
              "13  /content/drive/MyDrive/stone_pelting_project/s...  stonepelting\n",
              "14  /content/drive/MyDrive/stone_pelting_project/s...  stonepelting\n",
              "15  /content/drive/MyDrive/stone_pelting_project/s...  stonepelting\n",
              "16  /content/drive/MyDrive/stone_pelting_project/s...  stonepelting\n",
              "17  /content/drive/MyDrive/stone_pelting_project/s...  stonepelting"
            ],
            "text/html": [
              "\n",
              "  <div id=\"df-ac5d20e6-ebd0-4d52-b485-69f5e648b6b5\">\n",
              "    <div class=\"colab-df-container\">\n",
              "      <div>\n",
              "<style scoped>\n",
              "    .dataframe tbody tr th:only-of-type {\n",
              "        vertical-align: middle;\n",
              "    }\n",
              "\n",
              "    .dataframe tbody tr th {\n",
              "        vertical-align: top;\n",
              "    }\n",
              "\n",
              "    .dataframe thead th {\n",
              "        text-align: right;\n",
              "    }\n",
              "</style>\n",
              "<table border=\"1\" class=\"dataframe\">\n",
              "  <thead>\n",
              "    <tr style=\"text-align: right;\">\n",
              "      <th></th>\n",
              "      <th>File_Name</th>\n",
              "      <th>Labels</th>\n",
              "    </tr>\n",
              "  </thead>\n",
              "  <tbody>\n",
              "    <tr>\n",
              "      <th>0</th>\n",
              "      <td>/content/drive/MyDrive/stone_pelting_project/s...</td>\n",
              "      <td>stonepelting</td>\n",
              "    </tr>\n",
              "    <tr>\n",
              "      <th>1</th>\n",
              "      <td>/content/drive/MyDrive/stone_pelting_project/s...</td>\n",
              "      <td>stonepelting</td>\n",
              "    </tr>\n",
              "    <tr>\n",
              "      <th>2</th>\n",
              "      <td>/content/drive/MyDrive/stone_pelting_project/s...</td>\n",
              "      <td>stonepelting</td>\n",
              "    </tr>\n",
              "    <tr>\n",
              "      <th>3</th>\n",
              "      <td>/content/drive/MyDrive/stone_pelting_project/s...</td>\n",
              "      <td>stonepelting</td>\n",
              "    </tr>\n",
              "    <tr>\n",
              "      <th>4</th>\n",
              "      <td>/content/drive/MyDrive/stone_pelting_project/s...</td>\n",
              "      <td>stonepelting</td>\n",
              "    </tr>\n",
              "    <tr>\n",
              "      <th>5</th>\n",
              "      <td>/content/drive/MyDrive/stone_pelting_project/s...</td>\n",
              "      <td>stonepelting</td>\n",
              "    </tr>\n",
              "    <tr>\n",
              "      <th>6</th>\n",
              "      <td>/content/drive/MyDrive/stone_pelting_project/s...</td>\n",
              "      <td>stonepelting</td>\n",
              "    </tr>\n",
              "    <tr>\n",
              "      <th>7</th>\n",
              "      <td>/content/drive/MyDrive/stone_pelting_project/s...</td>\n",
              "      <td>stonepelting</td>\n",
              "    </tr>\n",
              "    <tr>\n",
              "      <th>8</th>\n",
              "      <td>/content/drive/MyDrive/stone_pelting_project/s...</td>\n",
              "      <td>stonepelting</td>\n",
              "    </tr>\n",
              "    <tr>\n",
              "      <th>9</th>\n",
              "      <td>/content/drive/MyDrive/stone_pelting_project/s...</td>\n",
              "      <td>stonepelting</td>\n",
              "    </tr>\n",
              "    <tr>\n",
              "      <th>10</th>\n",
              "      <td>/content/drive/MyDrive/stone_pelting_project/s...</td>\n",
              "      <td>stonepelting</td>\n",
              "    </tr>\n",
              "    <tr>\n",
              "      <th>11</th>\n",
              "      <td>/content/drive/MyDrive/stone_pelting_project/s...</td>\n",
              "      <td>stonepelting</td>\n",
              "    </tr>\n",
              "    <tr>\n",
              "      <th>12</th>\n",
              "      <td>/content/drive/MyDrive/stone_pelting_project/s...</td>\n",
              "      <td>stonepelting</td>\n",
              "    </tr>\n",
              "    <tr>\n",
              "      <th>13</th>\n",
              "      <td>/content/drive/MyDrive/stone_pelting_project/s...</td>\n",
              "      <td>stonepelting</td>\n",
              "    </tr>\n",
              "    <tr>\n",
              "      <th>14</th>\n",
              "      <td>/content/drive/MyDrive/stone_pelting_project/s...</td>\n",
              "      <td>stonepelting</td>\n",
              "    </tr>\n",
              "    <tr>\n",
              "      <th>15</th>\n",
              "      <td>/content/drive/MyDrive/stone_pelting_project/s...</td>\n",
              "      <td>stonepelting</td>\n",
              "    </tr>\n",
              "    <tr>\n",
              "      <th>16</th>\n",
              "      <td>/content/drive/MyDrive/stone_pelting_project/s...</td>\n",
              "      <td>stonepelting</td>\n",
              "    </tr>\n",
              "    <tr>\n",
              "      <th>17</th>\n",
              "      <td>/content/drive/MyDrive/stone_pelting_project/s...</td>\n",
              "      <td>stonepelting</td>\n",
              "    </tr>\n",
              "  </tbody>\n",
              "</table>\n",
              "</div>\n",
              "      <button class=\"colab-df-convert\" onclick=\"convertToInteractive('df-ac5d20e6-ebd0-4d52-b485-69f5e648b6b5')\"\n",
              "              title=\"Convert this dataframe to an interactive table.\"\n",
              "              style=\"display:none;\">\n",
              "        \n",
              "  <svg xmlns=\"http://www.w3.org/2000/svg\" height=\"24px\"viewBox=\"0 0 24 24\"\n",
              "       width=\"24px\">\n",
              "    <path d=\"M0 0h24v24H0V0z\" fill=\"none\"/>\n",
              "    <path d=\"M18.56 5.44l.94 2.06.94-2.06 2.06-.94-2.06-.94-.94-2.06-.94 2.06-2.06.94zm-11 1L8.5 8.5l.94-2.06 2.06-.94-2.06-.94L8.5 2.5l-.94 2.06-2.06.94zm10 10l.94 2.06.94-2.06 2.06-.94-2.06-.94-.94-2.06-.94 2.06-2.06.94z\"/><path d=\"M17.41 7.96l-1.37-1.37c-.4-.4-.92-.59-1.43-.59-.52 0-1.04.2-1.43.59L10.3 9.45l-7.72 7.72c-.78.78-.78 2.05 0 2.83L4 21.41c.39.39.9.59 1.41.59.51 0 1.02-.2 1.41-.59l7.78-7.78 2.81-2.81c.8-.78.8-2.07 0-2.86zM5.41 20L4 18.59l7.72-7.72 1.47 1.35L5.41 20z\"/>\n",
              "  </svg>\n",
              "      </button>\n",
              "      \n",
              "  <style>\n",
              "    .colab-df-container {\n",
              "      display:flex;\n",
              "      flex-wrap:wrap;\n",
              "      gap: 12px;\n",
              "    }\n",
              "\n",
              "    .colab-df-convert {\n",
              "      background-color: #E8F0FE;\n",
              "      border: none;\n",
              "      border-radius: 50%;\n",
              "      cursor: pointer;\n",
              "      display: none;\n",
              "      fill: #1967D2;\n",
              "      height: 32px;\n",
              "      padding: 0 0 0 0;\n",
              "      width: 32px;\n",
              "    }\n",
              "\n",
              "    .colab-df-convert:hover {\n",
              "      background-color: #E2EBFA;\n",
              "      box-shadow: 0px 1px 2px rgba(60, 64, 67, 0.3), 0px 1px 3px 1px rgba(60, 64, 67, 0.15);\n",
              "      fill: #174EA6;\n",
              "    }\n",
              "\n",
              "    [theme=dark] .colab-df-convert {\n",
              "      background-color: #3B4455;\n",
              "      fill: #D2E3FC;\n",
              "    }\n",
              "\n",
              "    [theme=dark] .colab-df-convert:hover {\n",
              "      background-color: #434B5C;\n",
              "      box-shadow: 0px 1px 3px 1px rgba(0, 0, 0, 0.15);\n",
              "      filter: drop-shadow(0px 1px 2px rgba(0, 0, 0, 0.3));\n",
              "      fill: #FFFFFF;\n",
              "    }\n",
              "  </style>\n",
              "\n",
              "      <script>\n",
              "        const buttonEl =\n",
              "          document.querySelector('#df-ac5d20e6-ebd0-4d52-b485-69f5e648b6b5 button.colab-df-convert');\n",
              "        buttonEl.style.display =\n",
              "          google.colab.kernel.accessAllowed ? 'block' : 'none';\n",
              "\n",
              "        async function convertToInteractive(key) {\n",
              "          const element = document.querySelector('#df-ac5d20e6-ebd0-4d52-b485-69f5e648b6b5');\n",
              "          const dataTable =\n",
              "            await google.colab.kernel.invokeFunction('convertToInteractive',\n",
              "                                                     [key], {});\n",
              "          if (!dataTable) return;\n",
              "\n",
              "          const docLinkHtml = 'Like what you see? Visit the ' +\n",
              "            '<a target=\"_blank\" href=https://colab.research.google.com/notebooks/data_table.ipynb>data table notebook</a>'\n",
              "            + ' to learn more about interactive tables.';\n",
              "          element.innerHTML = '';\n",
              "          dataTable['output_type'] = 'display_data';\n",
              "          await google.colab.output.renderOutput(dataTable, element);\n",
              "          const docLink = document.createElement('div');\n",
              "          docLink.innerHTML = docLinkHtml;\n",
              "          element.appendChild(docLink);\n",
              "        }\n",
              "      </script>\n",
              "    </div>\n",
              "  </div>\n",
              "  "
            ]
          },
          "metadata": {},
          "execution_count": 23
        }
      ],
      "source": [
        "stone_pelting"
      ]
    },
    {
      "cell_type": "code",
      "execution_count": null,
      "metadata": {
        "id": "ABy25vOHxPFe"
      },
      "outputs": [],
      "source": [
        "file_name_no=[]\n",
        "label_no=[]\n",
        "for i in glob.glob(\"/content/drive/MyDrive/stone_pelting_project/no_stone_pelting/\"+\"*.jpg\"):\n",
        "  file_name_no.append(i)\n",
        "  extract=i.split(\"/\")[-1]\n",
        "  label_no.append(extract.split(\"_\")[-1][:-4])"
      ]
    },
    {
      "cell_type": "code",
      "execution_count": null,
      "metadata": {
        "id": "47A3oTogxbPy"
      },
      "outputs": [],
      "source": [
        "no_stone_pelting = pd.DataFrame({\"File_Name\":file_name_no,\"Labels\":label_no})"
      ]
    },
    {
      "cell_type": "code",
      "execution_count": null,
      "metadata": {
        "colab": {
          "base_uri": "https://localhost:8080/",
          "height": 426
        },
        "id": "KrGFmGXcxhya",
        "outputId": "a75aba9f-8504-4e94-d3b3-e1408834516d"
      },
      "outputs": [
        {
          "output_type": "execute_result",
          "data": {
            "text/plain": [
              "                                            File_Name          Labels\n",
              "0   /content/drive/MyDrive/stone_pelting_project/n...  nostonepelting\n",
              "1   /content/drive/MyDrive/stone_pelting_project/n...  nostonepelting\n",
              "2   /content/drive/MyDrive/stone_pelting_project/n...  nostonepelting\n",
              "3   /content/drive/MyDrive/stone_pelting_project/n...  nostonepelting\n",
              "4   /content/drive/MyDrive/stone_pelting_project/n...  nostonepelting\n",
              "5   /content/drive/MyDrive/stone_pelting_project/n...  nostonepelting\n",
              "6   /content/drive/MyDrive/stone_pelting_project/n...  nostonepelting\n",
              "7   /content/drive/MyDrive/stone_pelting_project/n...  nostonepelting\n",
              "8   /content/drive/MyDrive/stone_pelting_project/n...  nostonepelting\n",
              "9   /content/drive/MyDrive/stone_pelting_project/n...  nostonepelting\n",
              "10  /content/drive/MyDrive/stone_pelting_project/n...  nostonepelting\n",
              "11  /content/drive/MyDrive/stone_pelting_project/n...  nostonepelting"
            ],
            "text/html": [
              "\n",
              "  <div id=\"df-7d827b9f-c3b6-40be-9f7d-b50468e31a19\">\n",
              "    <div class=\"colab-df-container\">\n",
              "      <div>\n",
              "<style scoped>\n",
              "    .dataframe tbody tr th:only-of-type {\n",
              "        vertical-align: middle;\n",
              "    }\n",
              "\n",
              "    .dataframe tbody tr th {\n",
              "        vertical-align: top;\n",
              "    }\n",
              "\n",
              "    .dataframe thead th {\n",
              "        text-align: right;\n",
              "    }\n",
              "</style>\n",
              "<table border=\"1\" class=\"dataframe\">\n",
              "  <thead>\n",
              "    <tr style=\"text-align: right;\">\n",
              "      <th></th>\n",
              "      <th>File_Name</th>\n",
              "      <th>Labels</th>\n",
              "    </tr>\n",
              "  </thead>\n",
              "  <tbody>\n",
              "    <tr>\n",
              "      <th>0</th>\n",
              "      <td>/content/drive/MyDrive/stone_pelting_project/n...</td>\n",
              "      <td>nostonepelting</td>\n",
              "    </tr>\n",
              "    <tr>\n",
              "      <th>1</th>\n",
              "      <td>/content/drive/MyDrive/stone_pelting_project/n...</td>\n",
              "      <td>nostonepelting</td>\n",
              "    </tr>\n",
              "    <tr>\n",
              "      <th>2</th>\n",
              "      <td>/content/drive/MyDrive/stone_pelting_project/n...</td>\n",
              "      <td>nostonepelting</td>\n",
              "    </tr>\n",
              "    <tr>\n",
              "      <th>3</th>\n",
              "      <td>/content/drive/MyDrive/stone_pelting_project/n...</td>\n",
              "      <td>nostonepelting</td>\n",
              "    </tr>\n",
              "    <tr>\n",
              "      <th>4</th>\n",
              "      <td>/content/drive/MyDrive/stone_pelting_project/n...</td>\n",
              "      <td>nostonepelting</td>\n",
              "    </tr>\n",
              "    <tr>\n",
              "      <th>5</th>\n",
              "      <td>/content/drive/MyDrive/stone_pelting_project/n...</td>\n",
              "      <td>nostonepelting</td>\n",
              "    </tr>\n",
              "    <tr>\n",
              "      <th>6</th>\n",
              "      <td>/content/drive/MyDrive/stone_pelting_project/n...</td>\n",
              "      <td>nostonepelting</td>\n",
              "    </tr>\n",
              "    <tr>\n",
              "      <th>7</th>\n",
              "      <td>/content/drive/MyDrive/stone_pelting_project/n...</td>\n",
              "      <td>nostonepelting</td>\n",
              "    </tr>\n",
              "    <tr>\n",
              "      <th>8</th>\n",
              "      <td>/content/drive/MyDrive/stone_pelting_project/n...</td>\n",
              "      <td>nostonepelting</td>\n",
              "    </tr>\n",
              "    <tr>\n",
              "      <th>9</th>\n",
              "      <td>/content/drive/MyDrive/stone_pelting_project/n...</td>\n",
              "      <td>nostonepelting</td>\n",
              "    </tr>\n",
              "    <tr>\n",
              "      <th>10</th>\n",
              "      <td>/content/drive/MyDrive/stone_pelting_project/n...</td>\n",
              "      <td>nostonepelting</td>\n",
              "    </tr>\n",
              "    <tr>\n",
              "      <th>11</th>\n",
              "      <td>/content/drive/MyDrive/stone_pelting_project/n...</td>\n",
              "      <td>nostonepelting</td>\n",
              "    </tr>\n",
              "  </tbody>\n",
              "</table>\n",
              "</div>\n",
              "      <button class=\"colab-df-convert\" onclick=\"convertToInteractive('df-7d827b9f-c3b6-40be-9f7d-b50468e31a19')\"\n",
              "              title=\"Convert this dataframe to an interactive table.\"\n",
              "              style=\"display:none;\">\n",
              "        \n",
              "  <svg xmlns=\"http://www.w3.org/2000/svg\" height=\"24px\"viewBox=\"0 0 24 24\"\n",
              "       width=\"24px\">\n",
              "    <path d=\"M0 0h24v24H0V0z\" fill=\"none\"/>\n",
              "    <path d=\"M18.56 5.44l.94 2.06.94-2.06 2.06-.94-2.06-.94-.94-2.06-.94 2.06-2.06.94zm-11 1L8.5 8.5l.94-2.06 2.06-.94-2.06-.94L8.5 2.5l-.94 2.06-2.06.94zm10 10l.94 2.06.94-2.06 2.06-.94-2.06-.94-.94-2.06-.94 2.06-2.06.94z\"/><path d=\"M17.41 7.96l-1.37-1.37c-.4-.4-.92-.59-1.43-.59-.52 0-1.04.2-1.43.59L10.3 9.45l-7.72 7.72c-.78.78-.78 2.05 0 2.83L4 21.41c.39.39.9.59 1.41.59.51 0 1.02-.2 1.41-.59l7.78-7.78 2.81-2.81c.8-.78.8-2.07 0-2.86zM5.41 20L4 18.59l7.72-7.72 1.47 1.35L5.41 20z\"/>\n",
              "  </svg>\n",
              "      </button>\n",
              "      \n",
              "  <style>\n",
              "    .colab-df-container {\n",
              "      display:flex;\n",
              "      flex-wrap:wrap;\n",
              "      gap: 12px;\n",
              "    }\n",
              "\n",
              "    .colab-df-convert {\n",
              "      background-color: #E8F0FE;\n",
              "      border: none;\n",
              "      border-radius: 50%;\n",
              "      cursor: pointer;\n",
              "      display: none;\n",
              "      fill: #1967D2;\n",
              "      height: 32px;\n",
              "      padding: 0 0 0 0;\n",
              "      width: 32px;\n",
              "    }\n",
              "\n",
              "    .colab-df-convert:hover {\n",
              "      background-color: #E2EBFA;\n",
              "      box-shadow: 0px 1px 2px rgba(60, 64, 67, 0.3), 0px 1px 3px 1px rgba(60, 64, 67, 0.15);\n",
              "      fill: #174EA6;\n",
              "    }\n",
              "\n",
              "    [theme=dark] .colab-df-convert {\n",
              "      background-color: #3B4455;\n",
              "      fill: #D2E3FC;\n",
              "    }\n",
              "\n",
              "    [theme=dark] .colab-df-convert:hover {\n",
              "      background-color: #434B5C;\n",
              "      box-shadow: 0px 1px 3px 1px rgba(0, 0, 0, 0.15);\n",
              "      filter: drop-shadow(0px 1px 2px rgba(0, 0, 0, 0.3));\n",
              "      fill: #FFFFFF;\n",
              "    }\n",
              "  </style>\n",
              "\n",
              "      <script>\n",
              "        const buttonEl =\n",
              "          document.querySelector('#df-7d827b9f-c3b6-40be-9f7d-b50468e31a19 button.colab-df-convert');\n",
              "        buttonEl.style.display =\n",
              "          google.colab.kernel.accessAllowed ? 'block' : 'none';\n",
              "\n",
              "        async function convertToInteractive(key) {\n",
              "          const element = document.querySelector('#df-7d827b9f-c3b6-40be-9f7d-b50468e31a19');\n",
              "          const dataTable =\n",
              "            await google.colab.kernel.invokeFunction('convertToInteractive',\n",
              "                                                     [key], {});\n",
              "          if (!dataTable) return;\n",
              "\n",
              "          const docLinkHtml = 'Like what you see? Visit the ' +\n",
              "            '<a target=\"_blank\" href=https://colab.research.google.com/notebooks/data_table.ipynb>data table notebook</a>'\n",
              "            + ' to learn more about interactive tables.';\n",
              "          element.innerHTML = '';\n",
              "          dataTable['output_type'] = 'display_data';\n",
              "          await google.colab.output.renderOutput(dataTable, element);\n",
              "          const docLink = document.createElement('div');\n",
              "          docLink.innerHTML = docLinkHtml;\n",
              "          element.appendChild(docLink);\n",
              "        }\n",
              "      </script>\n",
              "    </div>\n",
              "  </div>\n",
              "  "
            ]
          },
          "metadata": {},
          "execution_count": 26
        }
      ],
      "source": [
        "no_stone_pelting"
      ]
    },
    {
      "cell_type": "code",
      "execution_count": null,
      "metadata": {
        "id": "ugOrqJpixjCS"
      },
      "outputs": [],
      "source": [
        "master_data = pd.concat([no_stone_pelting,stone_pelting],axis=0)"
      ]
    },
    {
      "cell_type": "code",
      "execution_count": null,
      "metadata": {
        "colab": {
          "base_uri": "https://localhost:8080/",
          "height": 990
        },
        "id": "8MrraEq1x1wi",
        "outputId": "6ef4e7aa-fdce-49ae-c983-2a65c64b65cf"
      },
      "outputs": [
        {
          "output_type": "execute_result",
          "data": {
            "text/plain": [
              "                                            File_Name          Labels\n",
              "0   /content/drive/MyDrive/stone_pelting_project/n...  nostonepelting\n",
              "1   /content/drive/MyDrive/stone_pelting_project/n...  nostonepelting\n",
              "2   /content/drive/MyDrive/stone_pelting_project/n...  nostonepelting\n",
              "3   /content/drive/MyDrive/stone_pelting_project/n...  nostonepelting\n",
              "4   /content/drive/MyDrive/stone_pelting_project/n...  nostonepelting\n",
              "5   /content/drive/MyDrive/stone_pelting_project/n...  nostonepelting\n",
              "6   /content/drive/MyDrive/stone_pelting_project/n...  nostonepelting\n",
              "7   /content/drive/MyDrive/stone_pelting_project/n...  nostonepelting\n",
              "8   /content/drive/MyDrive/stone_pelting_project/n...  nostonepelting\n",
              "9   /content/drive/MyDrive/stone_pelting_project/n...  nostonepelting\n",
              "10  /content/drive/MyDrive/stone_pelting_project/n...  nostonepelting\n",
              "11  /content/drive/MyDrive/stone_pelting_project/n...  nostonepelting\n",
              "0   /content/drive/MyDrive/stone_pelting_project/s...    stonepelting\n",
              "1   /content/drive/MyDrive/stone_pelting_project/s...    stonepelting\n",
              "2   /content/drive/MyDrive/stone_pelting_project/s...    stonepelting\n",
              "3   /content/drive/MyDrive/stone_pelting_project/s...    stonepelting\n",
              "4   /content/drive/MyDrive/stone_pelting_project/s...    stonepelting\n",
              "5   /content/drive/MyDrive/stone_pelting_project/s...    stonepelting\n",
              "6   /content/drive/MyDrive/stone_pelting_project/s...    stonepelting\n",
              "7   /content/drive/MyDrive/stone_pelting_project/s...    stonepelting\n",
              "8   /content/drive/MyDrive/stone_pelting_project/s...    stonepelting\n",
              "9   /content/drive/MyDrive/stone_pelting_project/s...    stonepelting\n",
              "10  /content/drive/MyDrive/stone_pelting_project/s...    stonepelting\n",
              "11  /content/drive/MyDrive/stone_pelting_project/s...    stonepelting\n",
              "12  /content/drive/MyDrive/stone_pelting_project/s...    stonepelting\n",
              "13  /content/drive/MyDrive/stone_pelting_project/s...    stonepelting\n",
              "14  /content/drive/MyDrive/stone_pelting_project/s...    stonepelting\n",
              "15  /content/drive/MyDrive/stone_pelting_project/s...    stonepelting\n",
              "16  /content/drive/MyDrive/stone_pelting_project/s...    stonepelting\n",
              "17  /content/drive/MyDrive/stone_pelting_project/s...    stonepelting"
            ],
            "text/html": [
              "\n",
              "  <div id=\"df-0caf18c6-4881-43b3-8c69-28f3adb7203e\">\n",
              "    <div class=\"colab-df-container\">\n",
              "      <div>\n",
              "<style scoped>\n",
              "    .dataframe tbody tr th:only-of-type {\n",
              "        vertical-align: middle;\n",
              "    }\n",
              "\n",
              "    .dataframe tbody tr th {\n",
              "        vertical-align: top;\n",
              "    }\n",
              "\n",
              "    .dataframe thead th {\n",
              "        text-align: right;\n",
              "    }\n",
              "</style>\n",
              "<table border=\"1\" class=\"dataframe\">\n",
              "  <thead>\n",
              "    <tr style=\"text-align: right;\">\n",
              "      <th></th>\n",
              "      <th>File_Name</th>\n",
              "      <th>Labels</th>\n",
              "    </tr>\n",
              "  </thead>\n",
              "  <tbody>\n",
              "    <tr>\n",
              "      <th>0</th>\n",
              "      <td>/content/drive/MyDrive/stone_pelting_project/n...</td>\n",
              "      <td>nostonepelting</td>\n",
              "    </tr>\n",
              "    <tr>\n",
              "      <th>1</th>\n",
              "      <td>/content/drive/MyDrive/stone_pelting_project/n...</td>\n",
              "      <td>nostonepelting</td>\n",
              "    </tr>\n",
              "    <tr>\n",
              "      <th>2</th>\n",
              "      <td>/content/drive/MyDrive/stone_pelting_project/n...</td>\n",
              "      <td>nostonepelting</td>\n",
              "    </tr>\n",
              "    <tr>\n",
              "      <th>3</th>\n",
              "      <td>/content/drive/MyDrive/stone_pelting_project/n...</td>\n",
              "      <td>nostonepelting</td>\n",
              "    </tr>\n",
              "    <tr>\n",
              "      <th>4</th>\n",
              "      <td>/content/drive/MyDrive/stone_pelting_project/n...</td>\n",
              "      <td>nostonepelting</td>\n",
              "    </tr>\n",
              "    <tr>\n",
              "      <th>5</th>\n",
              "      <td>/content/drive/MyDrive/stone_pelting_project/n...</td>\n",
              "      <td>nostonepelting</td>\n",
              "    </tr>\n",
              "    <tr>\n",
              "      <th>6</th>\n",
              "      <td>/content/drive/MyDrive/stone_pelting_project/n...</td>\n",
              "      <td>nostonepelting</td>\n",
              "    </tr>\n",
              "    <tr>\n",
              "      <th>7</th>\n",
              "      <td>/content/drive/MyDrive/stone_pelting_project/n...</td>\n",
              "      <td>nostonepelting</td>\n",
              "    </tr>\n",
              "    <tr>\n",
              "      <th>8</th>\n",
              "      <td>/content/drive/MyDrive/stone_pelting_project/n...</td>\n",
              "      <td>nostonepelting</td>\n",
              "    </tr>\n",
              "    <tr>\n",
              "      <th>9</th>\n",
              "      <td>/content/drive/MyDrive/stone_pelting_project/n...</td>\n",
              "      <td>nostonepelting</td>\n",
              "    </tr>\n",
              "    <tr>\n",
              "      <th>10</th>\n",
              "      <td>/content/drive/MyDrive/stone_pelting_project/n...</td>\n",
              "      <td>nostonepelting</td>\n",
              "    </tr>\n",
              "    <tr>\n",
              "      <th>11</th>\n",
              "      <td>/content/drive/MyDrive/stone_pelting_project/n...</td>\n",
              "      <td>nostonepelting</td>\n",
              "    </tr>\n",
              "    <tr>\n",
              "      <th>0</th>\n",
              "      <td>/content/drive/MyDrive/stone_pelting_project/s...</td>\n",
              "      <td>stonepelting</td>\n",
              "    </tr>\n",
              "    <tr>\n",
              "      <th>1</th>\n",
              "      <td>/content/drive/MyDrive/stone_pelting_project/s...</td>\n",
              "      <td>stonepelting</td>\n",
              "    </tr>\n",
              "    <tr>\n",
              "      <th>2</th>\n",
              "      <td>/content/drive/MyDrive/stone_pelting_project/s...</td>\n",
              "      <td>stonepelting</td>\n",
              "    </tr>\n",
              "    <tr>\n",
              "      <th>3</th>\n",
              "      <td>/content/drive/MyDrive/stone_pelting_project/s...</td>\n",
              "      <td>stonepelting</td>\n",
              "    </tr>\n",
              "    <tr>\n",
              "      <th>4</th>\n",
              "      <td>/content/drive/MyDrive/stone_pelting_project/s...</td>\n",
              "      <td>stonepelting</td>\n",
              "    </tr>\n",
              "    <tr>\n",
              "      <th>5</th>\n",
              "      <td>/content/drive/MyDrive/stone_pelting_project/s...</td>\n",
              "      <td>stonepelting</td>\n",
              "    </tr>\n",
              "    <tr>\n",
              "      <th>6</th>\n",
              "      <td>/content/drive/MyDrive/stone_pelting_project/s...</td>\n",
              "      <td>stonepelting</td>\n",
              "    </tr>\n",
              "    <tr>\n",
              "      <th>7</th>\n",
              "      <td>/content/drive/MyDrive/stone_pelting_project/s...</td>\n",
              "      <td>stonepelting</td>\n",
              "    </tr>\n",
              "    <tr>\n",
              "      <th>8</th>\n",
              "      <td>/content/drive/MyDrive/stone_pelting_project/s...</td>\n",
              "      <td>stonepelting</td>\n",
              "    </tr>\n",
              "    <tr>\n",
              "      <th>9</th>\n",
              "      <td>/content/drive/MyDrive/stone_pelting_project/s...</td>\n",
              "      <td>stonepelting</td>\n",
              "    </tr>\n",
              "    <tr>\n",
              "      <th>10</th>\n",
              "      <td>/content/drive/MyDrive/stone_pelting_project/s...</td>\n",
              "      <td>stonepelting</td>\n",
              "    </tr>\n",
              "    <tr>\n",
              "      <th>11</th>\n",
              "      <td>/content/drive/MyDrive/stone_pelting_project/s...</td>\n",
              "      <td>stonepelting</td>\n",
              "    </tr>\n",
              "    <tr>\n",
              "      <th>12</th>\n",
              "      <td>/content/drive/MyDrive/stone_pelting_project/s...</td>\n",
              "      <td>stonepelting</td>\n",
              "    </tr>\n",
              "    <tr>\n",
              "      <th>13</th>\n",
              "      <td>/content/drive/MyDrive/stone_pelting_project/s...</td>\n",
              "      <td>stonepelting</td>\n",
              "    </tr>\n",
              "    <tr>\n",
              "      <th>14</th>\n",
              "      <td>/content/drive/MyDrive/stone_pelting_project/s...</td>\n",
              "      <td>stonepelting</td>\n",
              "    </tr>\n",
              "    <tr>\n",
              "      <th>15</th>\n",
              "      <td>/content/drive/MyDrive/stone_pelting_project/s...</td>\n",
              "      <td>stonepelting</td>\n",
              "    </tr>\n",
              "    <tr>\n",
              "      <th>16</th>\n",
              "      <td>/content/drive/MyDrive/stone_pelting_project/s...</td>\n",
              "      <td>stonepelting</td>\n",
              "    </tr>\n",
              "    <tr>\n",
              "      <th>17</th>\n",
              "      <td>/content/drive/MyDrive/stone_pelting_project/s...</td>\n",
              "      <td>stonepelting</td>\n",
              "    </tr>\n",
              "  </tbody>\n",
              "</table>\n",
              "</div>\n",
              "      <button class=\"colab-df-convert\" onclick=\"convertToInteractive('df-0caf18c6-4881-43b3-8c69-28f3adb7203e')\"\n",
              "              title=\"Convert this dataframe to an interactive table.\"\n",
              "              style=\"display:none;\">\n",
              "        \n",
              "  <svg xmlns=\"http://www.w3.org/2000/svg\" height=\"24px\"viewBox=\"0 0 24 24\"\n",
              "       width=\"24px\">\n",
              "    <path d=\"M0 0h24v24H0V0z\" fill=\"none\"/>\n",
              "    <path d=\"M18.56 5.44l.94 2.06.94-2.06 2.06-.94-2.06-.94-.94-2.06-.94 2.06-2.06.94zm-11 1L8.5 8.5l.94-2.06 2.06-.94-2.06-.94L8.5 2.5l-.94 2.06-2.06.94zm10 10l.94 2.06.94-2.06 2.06-.94-2.06-.94-.94-2.06-.94 2.06-2.06.94z\"/><path d=\"M17.41 7.96l-1.37-1.37c-.4-.4-.92-.59-1.43-.59-.52 0-1.04.2-1.43.59L10.3 9.45l-7.72 7.72c-.78.78-.78 2.05 0 2.83L4 21.41c.39.39.9.59 1.41.59.51 0 1.02-.2 1.41-.59l7.78-7.78 2.81-2.81c.8-.78.8-2.07 0-2.86zM5.41 20L4 18.59l7.72-7.72 1.47 1.35L5.41 20z\"/>\n",
              "  </svg>\n",
              "      </button>\n",
              "      \n",
              "  <style>\n",
              "    .colab-df-container {\n",
              "      display:flex;\n",
              "      flex-wrap:wrap;\n",
              "      gap: 12px;\n",
              "    }\n",
              "\n",
              "    .colab-df-convert {\n",
              "      background-color: #E8F0FE;\n",
              "      border: none;\n",
              "      border-radius: 50%;\n",
              "      cursor: pointer;\n",
              "      display: none;\n",
              "      fill: #1967D2;\n",
              "      height: 32px;\n",
              "      padding: 0 0 0 0;\n",
              "      width: 32px;\n",
              "    }\n",
              "\n",
              "    .colab-df-convert:hover {\n",
              "      background-color: #E2EBFA;\n",
              "      box-shadow: 0px 1px 2px rgba(60, 64, 67, 0.3), 0px 1px 3px 1px rgba(60, 64, 67, 0.15);\n",
              "      fill: #174EA6;\n",
              "    }\n",
              "\n",
              "    [theme=dark] .colab-df-convert {\n",
              "      background-color: #3B4455;\n",
              "      fill: #D2E3FC;\n",
              "    }\n",
              "\n",
              "    [theme=dark] .colab-df-convert:hover {\n",
              "      background-color: #434B5C;\n",
              "      box-shadow: 0px 1px 3px 1px rgba(0, 0, 0, 0.15);\n",
              "      filter: drop-shadow(0px 1px 2px rgba(0, 0, 0, 0.3));\n",
              "      fill: #FFFFFF;\n",
              "    }\n",
              "  </style>\n",
              "\n",
              "      <script>\n",
              "        const buttonEl =\n",
              "          document.querySelector('#df-0caf18c6-4881-43b3-8c69-28f3adb7203e button.colab-df-convert');\n",
              "        buttonEl.style.display =\n",
              "          google.colab.kernel.accessAllowed ? 'block' : 'none';\n",
              "\n",
              "        async function convertToInteractive(key) {\n",
              "          const element = document.querySelector('#df-0caf18c6-4881-43b3-8c69-28f3adb7203e');\n",
              "          const dataTable =\n",
              "            await google.colab.kernel.invokeFunction('convertToInteractive',\n",
              "                                                     [key], {});\n",
              "          if (!dataTable) return;\n",
              "\n",
              "          const docLinkHtml = 'Like what you see? Visit the ' +\n",
              "            '<a target=\"_blank\" href=https://colab.research.google.com/notebooks/data_table.ipynb>data table notebook</a>'\n",
              "            + ' to learn more about interactive tables.';\n",
              "          element.innerHTML = '';\n",
              "          dataTable['output_type'] = 'display_data';\n",
              "          await google.colab.output.renderOutput(dataTable, element);\n",
              "          const docLink = document.createElement('div');\n",
              "          docLink.innerHTML = docLinkHtml;\n",
              "          element.appendChild(docLink);\n",
              "        }\n",
              "      </script>\n",
              "    </div>\n",
              "  </div>\n",
              "  "
            ]
          },
          "metadata": {},
          "execution_count": 29
        }
      ],
      "source": [
        "master_data"
      ]
    },
    {
      "cell_type": "code",
      "execution_count": null,
      "metadata": {
        "id": "770bRcOlx5G_"
      },
      "outputs": [],
      "source": [
        "master_data=master_data.sample(frac=1)"
      ]
    },
    {
      "cell_type": "code",
      "execution_count": null,
      "metadata": {
        "colab": {
          "base_uri": "https://localhost:8080/",
          "height": 990
        },
        "id": "4_lBe8nDyBGT",
        "outputId": "ddee6537-a47d-45bf-acd7-299e6b009767"
      },
      "outputs": [
        {
          "output_type": "execute_result",
          "data": {
            "text/plain": [
              "                                            File_Name          Labels\n",
              "17  /content/drive/MyDrive/stone_pelting_project/s...    stonepelting\n",
              "11  /content/drive/MyDrive/stone_pelting_project/n...  nostonepelting\n",
              "12  /content/drive/MyDrive/stone_pelting_project/s...    stonepelting\n",
              "7   /content/drive/MyDrive/stone_pelting_project/n...  nostonepelting\n",
              "8   /content/drive/MyDrive/stone_pelting_project/s...    stonepelting\n",
              "6   /content/drive/MyDrive/stone_pelting_project/n...  nostonepelting\n",
              "9   /content/drive/MyDrive/stone_pelting_project/s...    stonepelting\n",
              "11  /content/drive/MyDrive/stone_pelting_project/s...    stonepelting\n",
              "15  /content/drive/MyDrive/stone_pelting_project/s...    stonepelting\n",
              "4   /content/drive/MyDrive/stone_pelting_project/s...    stonepelting\n",
              "5   /content/drive/MyDrive/stone_pelting_project/s...    stonepelting\n",
              "0   /content/drive/MyDrive/stone_pelting_project/n...  nostonepelting\n",
              "14  /content/drive/MyDrive/stone_pelting_project/s...    stonepelting\n",
              "13  /content/drive/MyDrive/stone_pelting_project/s...    stonepelting\n",
              "8   /content/drive/MyDrive/stone_pelting_project/n...  nostonepelting\n",
              "10  /content/drive/MyDrive/stone_pelting_project/s...    stonepelting\n",
              "7   /content/drive/MyDrive/stone_pelting_project/s...    stonepelting\n",
              "10  /content/drive/MyDrive/stone_pelting_project/n...  nostonepelting\n",
              "2   /content/drive/MyDrive/stone_pelting_project/n...  nostonepelting\n",
              "1   /content/drive/MyDrive/stone_pelting_project/n...  nostonepelting\n",
              "3   /content/drive/MyDrive/stone_pelting_project/n...  nostonepelting\n",
              "3   /content/drive/MyDrive/stone_pelting_project/s...    stonepelting\n",
              "1   /content/drive/MyDrive/stone_pelting_project/s...    stonepelting\n",
              "2   /content/drive/MyDrive/stone_pelting_project/s...    stonepelting\n",
              "9   /content/drive/MyDrive/stone_pelting_project/n...  nostonepelting\n",
              "0   /content/drive/MyDrive/stone_pelting_project/s...    stonepelting\n",
              "6   /content/drive/MyDrive/stone_pelting_project/s...    stonepelting\n",
              "16  /content/drive/MyDrive/stone_pelting_project/s...    stonepelting\n",
              "5   /content/drive/MyDrive/stone_pelting_project/n...  nostonepelting\n",
              "4   /content/drive/MyDrive/stone_pelting_project/n...  nostonepelting"
            ],
            "text/html": [
              "\n",
              "  <div id=\"df-4e00ab95-526e-4ee1-8d8c-1b2bc7f86340\">\n",
              "    <div class=\"colab-df-container\">\n",
              "      <div>\n",
              "<style scoped>\n",
              "    .dataframe tbody tr th:only-of-type {\n",
              "        vertical-align: middle;\n",
              "    }\n",
              "\n",
              "    .dataframe tbody tr th {\n",
              "        vertical-align: top;\n",
              "    }\n",
              "\n",
              "    .dataframe thead th {\n",
              "        text-align: right;\n",
              "    }\n",
              "</style>\n",
              "<table border=\"1\" class=\"dataframe\">\n",
              "  <thead>\n",
              "    <tr style=\"text-align: right;\">\n",
              "      <th></th>\n",
              "      <th>File_Name</th>\n",
              "      <th>Labels</th>\n",
              "    </tr>\n",
              "  </thead>\n",
              "  <tbody>\n",
              "    <tr>\n",
              "      <th>17</th>\n",
              "      <td>/content/drive/MyDrive/stone_pelting_project/s...</td>\n",
              "      <td>stonepelting</td>\n",
              "    </tr>\n",
              "    <tr>\n",
              "      <th>11</th>\n",
              "      <td>/content/drive/MyDrive/stone_pelting_project/n...</td>\n",
              "      <td>nostonepelting</td>\n",
              "    </tr>\n",
              "    <tr>\n",
              "      <th>12</th>\n",
              "      <td>/content/drive/MyDrive/stone_pelting_project/s...</td>\n",
              "      <td>stonepelting</td>\n",
              "    </tr>\n",
              "    <tr>\n",
              "      <th>7</th>\n",
              "      <td>/content/drive/MyDrive/stone_pelting_project/n...</td>\n",
              "      <td>nostonepelting</td>\n",
              "    </tr>\n",
              "    <tr>\n",
              "      <th>8</th>\n",
              "      <td>/content/drive/MyDrive/stone_pelting_project/s...</td>\n",
              "      <td>stonepelting</td>\n",
              "    </tr>\n",
              "    <tr>\n",
              "      <th>6</th>\n",
              "      <td>/content/drive/MyDrive/stone_pelting_project/n...</td>\n",
              "      <td>nostonepelting</td>\n",
              "    </tr>\n",
              "    <tr>\n",
              "      <th>9</th>\n",
              "      <td>/content/drive/MyDrive/stone_pelting_project/s...</td>\n",
              "      <td>stonepelting</td>\n",
              "    </tr>\n",
              "    <tr>\n",
              "      <th>11</th>\n",
              "      <td>/content/drive/MyDrive/stone_pelting_project/s...</td>\n",
              "      <td>stonepelting</td>\n",
              "    </tr>\n",
              "    <tr>\n",
              "      <th>15</th>\n",
              "      <td>/content/drive/MyDrive/stone_pelting_project/s...</td>\n",
              "      <td>stonepelting</td>\n",
              "    </tr>\n",
              "    <tr>\n",
              "      <th>4</th>\n",
              "      <td>/content/drive/MyDrive/stone_pelting_project/s...</td>\n",
              "      <td>stonepelting</td>\n",
              "    </tr>\n",
              "    <tr>\n",
              "      <th>5</th>\n",
              "      <td>/content/drive/MyDrive/stone_pelting_project/s...</td>\n",
              "      <td>stonepelting</td>\n",
              "    </tr>\n",
              "    <tr>\n",
              "      <th>0</th>\n",
              "      <td>/content/drive/MyDrive/stone_pelting_project/n...</td>\n",
              "      <td>nostonepelting</td>\n",
              "    </tr>\n",
              "    <tr>\n",
              "      <th>14</th>\n",
              "      <td>/content/drive/MyDrive/stone_pelting_project/s...</td>\n",
              "      <td>stonepelting</td>\n",
              "    </tr>\n",
              "    <tr>\n",
              "      <th>13</th>\n",
              "      <td>/content/drive/MyDrive/stone_pelting_project/s...</td>\n",
              "      <td>stonepelting</td>\n",
              "    </tr>\n",
              "    <tr>\n",
              "      <th>8</th>\n",
              "      <td>/content/drive/MyDrive/stone_pelting_project/n...</td>\n",
              "      <td>nostonepelting</td>\n",
              "    </tr>\n",
              "    <tr>\n",
              "      <th>10</th>\n",
              "      <td>/content/drive/MyDrive/stone_pelting_project/s...</td>\n",
              "      <td>stonepelting</td>\n",
              "    </tr>\n",
              "    <tr>\n",
              "      <th>7</th>\n",
              "      <td>/content/drive/MyDrive/stone_pelting_project/s...</td>\n",
              "      <td>stonepelting</td>\n",
              "    </tr>\n",
              "    <tr>\n",
              "      <th>10</th>\n",
              "      <td>/content/drive/MyDrive/stone_pelting_project/n...</td>\n",
              "      <td>nostonepelting</td>\n",
              "    </tr>\n",
              "    <tr>\n",
              "      <th>2</th>\n",
              "      <td>/content/drive/MyDrive/stone_pelting_project/n...</td>\n",
              "      <td>nostonepelting</td>\n",
              "    </tr>\n",
              "    <tr>\n",
              "      <th>1</th>\n",
              "      <td>/content/drive/MyDrive/stone_pelting_project/n...</td>\n",
              "      <td>nostonepelting</td>\n",
              "    </tr>\n",
              "    <tr>\n",
              "      <th>3</th>\n",
              "      <td>/content/drive/MyDrive/stone_pelting_project/n...</td>\n",
              "      <td>nostonepelting</td>\n",
              "    </tr>\n",
              "    <tr>\n",
              "      <th>3</th>\n",
              "      <td>/content/drive/MyDrive/stone_pelting_project/s...</td>\n",
              "      <td>stonepelting</td>\n",
              "    </tr>\n",
              "    <tr>\n",
              "      <th>1</th>\n",
              "      <td>/content/drive/MyDrive/stone_pelting_project/s...</td>\n",
              "      <td>stonepelting</td>\n",
              "    </tr>\n",
              "    <tr>\n",
              "      <th>2</th>\n",
              "      <td>/content/drive/MyDrive/stone_pelting_project/s...</td>\n",
              "      <td>stonepelting</td>\n",
              "    </tr>\n",
              "    <tr>\n",
              "      <th>9</th>\n",
              "      <td>/content/drive/MyDrive/stone_pelting_project/n...</td>\n",
              "      <td>nostonepelting</td>\n",
              "    </tr>\n",
              "    <tr>\n",
              "      <th>0</th>\n",
              "      <td>/content/drive/MyDrive/stone_pelting_project/s...</td>\n",
              "      <td>stonepelting</td>\n",
              "    </tr>\n",
              "    <tr>\n",
              "      <th>6</th>\n",
              "      <td>/content/drive/MyDrive/stone_pelting_project/s...</td>\n",
              "      <td>stonepelting</td>\n",
              "    </tr>\n",
              "    <tr>\n",
              "      <th>16</th>\n",
              "      <td>/content/drive/MyDrive/stone_pelting_project/s...</td>\n",
              "      <td>stonepelting</td>\n",
              "    </tr>\n",
              "    <tr>\n",
              "      <th>5</th>\n",
              "      <td>/content/drive/MyDrive/stone_pelting_project/n...</td>\n",
              "      <td>nostonepelting</td>\n",
              "    </tr>\n",
              "    <tr>\n",
              "      <th>4</th>\n",
              "      <td>/content/drive/MyDrive/stone_pelting_project/n...</td>\n",
              "      <td>nostonepelting</td>\n",
              "    </tr>\n",
              "  </tbody>\n",
              "</table>\n",
              "</div>\n",
              "      <button class=\"colab-df-convert\" onclick=\"convertToInteractive('df-4e00ab95-526e-4ee1-8d8c-1b2bc7f86340')\"\n",
              "              title=\"Convert this dataframe to an interactive table.\"\n",
              "              style=\"display:none;\">\n",
              "        \n",
              "  <svg xmlns=\"http://www.w3.org/2000/svg\" height=\"24px\"viewBox=\"0 0 24 24\"\n",
              "       width=\"24px\">\n",
              "    <path d=\"M0 0h24v24H0V0z\" fill=\"none\"/>\n",
              "    <path d=\"M18.56 5.44l.94 2.06.94-2.06 2.06-.94-2.06-.94-.94-2.06-.94 2.06-2.06.94zm-11 1L8.5 8.5l.94-2.06 2.06-.94-2.06-.94L8.5 2.5l-.94 2.06-2.06.94zm10 10l.94 2.06.94-2.06 2.06-.94-2.06-.94-.94-2.06-.94 2.06-2.06.94z\"/><path d=\"M17.41 7.96l-1.37-1.37c-.4-.4-.92-.59-1.43-.59-.52 0-1.04.2-1.43.59L10.3 9.45l-7.72 7.72c-.78.78-.78 2.05 0 2.83L4 21.41c.39.39.9.59 1.41.59.51 0 1.02-.2 1.41-.59l7.78-7.78 2.81-2.81c.8-.78.8-2.07 0-2.86zM5.41 20L4 18.59l7.72-7.72 1.47 1.35L5.41 20z\"/>\n",
              "  </svg>\n",
              "      </button>\n",
              "      \n",
              "  <style>\n",
              "    .colab-df-container {\n",
              "      display:flex;\n",
              "      flex-wrap:wrap;\n",
              "      gap: 12px;\n",
              "    }\n",
              "\n",
              "    .colab-df-convert {\n",
              "      background-color: #E8F0FE;\n",
              "      border: none;\n",
              "      border-radius: 50%;\n",
              "      cursor: pointer;\n",
              "      display: none;\n",
              "      fill: #1967D2;\n",
              "      height: 32px;\n",
              "      padding: 0 0 0 0;\n",
              "      width: 32px;\n",
              "    }\n",
              "\n",
              "    .colab-df-convert:hover {\n",
              "      background-color: #E2EBFA;\n",
              "      box-shadow: 0px 1px 2px rgba(60, 64, 67, 0.3), 0px 1px 3px 1px rgba(60, 64, 67, 0.15);\n",
              "      fill: #174EA6;\n",
              "    }\n",
              "\n",
              "    [theme=dark] .colab-df-convert {\n",
              "      background-color: #3B4455;\n",
              "      fill: #D2E3FC;\n",
              "    }\n",
              "\n",
              "    [theme=dark] .colab-df-convert:hover {\n",
              "      background-color: #434B5C;\n",
              "      box-shadow: 0px 1px 3px 1px rgba(0, 0, 0, 0.15);\n",
              "      filter: drop-shadow(0px 1px 2px rgba(0, 0, 0, 0.3));\n",
              "      fill: #FFFFFF;\n",
              "    }\n",
              "  </style>\n",
              "\n",
              "      <script>\n",
              "        const buttonEl =\n",
              "          document.querySelector('#df-4e00ab95-526e-4ee1-8d8c-1b2bc7f86340 button.colab-df-convert');\n",
              "        buttonEl.style.display =\n",
              "          google.colab.kernel.accessAllowed ? 'block' : 'none';\n",
              "\n",
              "        async function convertToInteractive(key) {\n",
              "          const element = document.querySelector('#df-4e00ab95-526e-4ee1-8d8c-1b2bc7f86340');\n",
              "          const dataTable =\n",
              "            await google.colab.kernel.invokeFunction('convertToInteractive',\n",
              "                                                     [key], {});\n",
              "          if (!dataTable) return;\n",
              "\n",
              "          const docLinkHtml = 'Like what you see? Visit the ' +\n",
              "            '<a target=\"_blank\" href=https://colab.research.google.com/notebooks/data_table.ipynb>data table notebook</a>'\n",
              "            + ' to learn more about interactive tables.';\n",
              "          element.innerHTML = '';\n",
              "          dataTable['output_type'] = 'display_data';\n",
              "          await google.colab.output.renderOutput(dataTable, element);\n",
              "          const docLink = document.createElement('div');\n",
              "          docLink.innerHTML = docLinkHtml;\n",
              "          element.appendChild(docLink);\n",
              "        }\n",
              "      </script>\n",
              "    </div>\n",
              "  </div>\n",
              "  "
            ]
          },
          "metadata": {},
          "execution_count": 31
        }
      ],
      "source": [
        "master_data"
      ]
    },
    {
      "cell_type": "code",
      "execution_count": null,
      "metadata": {
        "id": "iYKAqqI6yFzR"
      },
      "outputs": [],
      "source": [
        "master_data.reset_index(inplace=True)"
      ]
    },
    {
      "cell_type": "code",
      "execution_count": null,
      "metadata": {
        "id": "k5OBxml0yNmb"
      },
      "outputs": [],
      "source": [
        "master_data.drop(['index'],axis=1,inplace=True)"
      ]
    },
    {
      "cell_type": "code",
      "execution_count": null,
      "metadata": {
        "colab": {
          "base_uri": "https://localhost:8080/",
          "height": 990
        },
        "id": "j97X1bcryYv4",
        "outputId": "db3e1adb-36ec-4811-affe-59e770e08100"
      },
      "outputs": [
        {
          "output_type": "execute_result",
          "data": {
            "text/plain": [
              "                                            File_Name          Labels\n",
              "0   /content/drive/MyDrive/stone_pelting_project/s...    stonepelting\n",
              "1   /content/drive/MyDrive/stone_pelting_project/n...  nostonepelting\n",
              "2   /content/drive/MyDrive/stone_pelting_project/s...    stonepelting\n",
              "3   /content/drive/MyDrive/stone_pelting_project/n...  nostonepelting\n",
              "4   /content/drive/MyDrive/stone_pelting_project/s...    stonepelting\n",
              "5   /content/drive/MyDrive/stone_pelting_project/n...  nostonepelting\n",
              "6   /content/drive/MyDrive/stone_pelting_project/s...    stonepelting\n",
              "7   /content/drive/MyDrive/stone_pelting_project/s...    stonepelting\n",
              "8   /content/drive/MyDrive/stone_pelting_project/s...    stonepelting\n",
              "9   /content/drive/MyDrive/stone_pelting_project/s...    stonepelting\n",
              "10  /content/drive/MyDrive/stone_pelting_project/s...    stonepelting\n",
              "11  /content/drive/MyDrive/stone_pelting_project/n...  nostonepelting\n",
              "12  /content/drive/MyDrive/stone_pelting_project/s...    stonepelting\n",
              "13  /content/drive/MyDrive/stone_pelting_project/s...    stonepelting\n",
              "14  /content/drive/MyDrive/stone_pelting_project/n...  nostonepelting\n",
              "15  /content/drive/MyDrive/stone_pelting_project/s...    stonepelting\n",
              "16  /content/drive/MyDrive/stone_pelting_project/s...    stonepelting\n",
              "17  /content/drive/MyDrive/stone_pelting_project/n...  nostonepelting\n",
              "18  /content/drive/MyDrive/stone_pelting_project/n...  nostonepelting\n",
              "19  /content/drive/MyDrive/stone_pelting_project/n...  nostonepelting\n",
              "20  /content/drive/MyDrive/stone_pelting_project/n...  nostonepelting\n",
              "21  /content/drive/MyDrive/stone_pelting_project/s...    stonepelting\n",
              "22  /content/drive/MyDrive/stone_pelting_project/s...    stonepelting\n",
              "23  /content/drive/MyDrive/stone_pelting_project/s...    stonepelting\n",
              "24  /content/drive/MyDrive/stone_pelting_project/n...  nostonepelting\n",
              "25  /content/drive/MyDrive/stone_pelting_project/s...    stonepelting\n",
              "26  /content/drive/MyDrive/stone_pelting_project/s...    stonepelting\n",
              "27  /content/drive/MyDrive/stone_pelting_project/s...    stonepelting\n",
              "28  /content/drive/MyDrive/stone_pelting_project/n...  nostonepelting\n",
              "29  /content/drive/MyDrive/stone_pelting_project/n...  nostonepelting"
            ],
            "text/html": [
              "\n",
              "  <div id=\"df-c04681f3-bc0e-420b-a8b6-3971e6035828\">\n",
              "    <div class=\"colab-df-container\">\n",
              "      <div>\n",
              "<style scoped>\n",
              "    .dataframe tbody tr th:only-of-type {\n",
              "        vertical-align: middle;\n",
              "    }\n",
              "\n",
              "    .dataframe tbody tr th {\n",
              "        vertical-align: top;\n",
              "    }\n",
              "\n",
              "    .dataframe thead th {\n",
              "        text-align: right;\n",
              "    }\n",
              "</style>\n",
              "<table border=\"1\" class=\"dataframe\">\n",
              "  <thead>\n",
              "    <tr style=\"text-align: right;\">\n",
              "      <th></th>\n",
              "      <th>File_Name</th>\n",
              "      <th>Labels</th>\n",
              "    </tr>\n",
              "  </thead>\n",
              "  <tbody>\n",
              "    <tr>\n",
              "      <th>0</th>\n",
              "      <td>/content/drive/MyDrive/stone_pelting_project/s...</td>\n",
              "      <td>stonepelting</td>\n",
              "    </tr>\n",
              "    <tr>\n",
              "      <th>1</th>\n",
              "      <td>/content/drive/MyDrive/stone_pelting_project/n...</td>\n",
              "      <td>nostonepelting</td>\n",
              "    </tr>\n",
              "    <tr>\n",
              "      <th>2</th>\n",
              "      <td>/content/drive/MyDrive/stone_pelting_project/s...</td>\n",
              "      <td>stonepelting</td>\n",
              "    </tr>\n",
              "    <tr>\n",
              "      <th>3</th>\n",
              "      <td>/content/drive/MyDrive/stone_pelting_project/n...</td>\n",
              "      <td>nostonepelting</td>\n",
              "    </tr>\n",
              "    <tr>\n",
              "      <th>4</th>\n",
              "      <td>/content/drive/MyDrive/stone_pelting_project/s...</td>\n",
              "      <td>stonepelting</td>\n",
              "    </tr>\n",
              "    <tr>\n",
              "      <th>5</th>\n",
              "      <td>/content/drive/MyDrive/stone_pelting_project/n...</td>\n",
              "      <td>nostonepelting</td>\n",
              "    </tr>\n",
              "    <tr>\n",
              "      <th>6</th>\n",
              "      <td>/content/drive/MyDrive/stone_pelting_project/s...</td>\n",
              "      <td>stonepelting</td>\n",
              "    </tr>\n",
              "    <tr>\n",
              "      <th>7</th>\n",
              "      <td>/content/drive/MyDrive/stone_pelting_project/s...</td>\n",
              "      <td>stonepelting</td>\n",
              "    </tr>\n",
              "    <tr>\n",
              "      <th>8</th>\n",
              "      <td>/content/drive/MyDrive/stone_pelting_project/s...</td>\n",
              "      <td>stonepelting</td>\n",
              "    </tr>\n",
              "    <tr>\n",
              "      <th>9</th>\n",
              "      <td>/content/drive/MyDrive/stone_pelting_project/s...</td>\n",
              "      <td>stonepelting</td>\n",
              "    </tr>\n",
              "    <tr>\n",
              "      <th>10</th>\n",
              "      <td>/content/drive/MyDrive/stone_pelting_project/s...</td>\n",
              "      <td>stonepelting</td>\n",
              "    </tr>\n",
              "    <tr>\n",
              "      <th>11</th>\n",
              "      <td>/content/drive/MyDrive/stone_pelting_project/n...</td>\n",
              "      <td>nostonepelting</td>\n",
              "    </tr>\n",
              "    <tr>\n",
              "      <th>12</th>\n",
              "      <td>/content/drive/MyDrive/stone_pelting_project/s...</td>\n",
              "      <td>stonepelting</td>\n",
              "    </tr>\n",
              "    <tr>\n",
              "      <th>13</th>\n",
              "      <td>/content/drive/MyDrive/stone_pelting_project/s...</td>\n",
              "      <td>stonepelting</td>\n",
              "    </tr>\n",
              "    <tr>\n",
              "      <th>14</th>\n",
              "      <td>/content/drive/MyDrive/stone_pelting_project/n...</td>\n",
              "      <td>nostonepelting</td>\n",
              "    </tr>\n",
              "    <tr>\n",
              "      <th>15</th>\n",
              "      <td>/content/drive/MyDrive/stone_pelting_project/s...</td>\n",
              "      <td>stonepelting</td>\n",
              "    </tr>\n",
              "    <tr>\n",
              "      <th>16</th>\n",
              "      <td>/content/drive/MyDrive/stone_pelting_project/s...</td>\n",
              "      <td>stonepelting</td>\n",
              "    </tr>\n",
              "    <tr>\n",
              "      <th>17</th>\n",
              "      <td>/content/drive/MyDrive/stone_pelting_project/n...</td>\n",
              "      <td>nostonepelting</td>\n",
              "    </tr>\n",
              "    <tr>\n",
              "      <th>18</th>\n",
              "      <td>/content/drive/MyDrive/stone_pelting_project/n...</td>\n",
              "      <td>nostonepelting</td>\n",
              "    </tr>\n",
              "    <tr>\n",
              "      <th>19</th>\n",
              "      <td>/content/drive/MyDrive/stone_pelting_project/n...</td>\n",
              "      <td>nostonepelting</td>\n",
              "    </tr>\n",
              "    <tr>\n",
              "      <th>20</th>\n",
              "      <td>/content/drive/MyDrive/stone_pelting_project/n...</td>\n",
              "      <td>nostonepelting</td>\n",
              "    </tr>\n",
              "    <tr>\n",
              "      <th>21</th>\n",
              "      <td>/content/drive/MyDrive/stone_pelting_project/s...</td>\n",
              "      <td>stonepelting</td>\n",
              "    </tr>\n",
              "    <tr>\n",
              "      <th>22</th>\n",
              "      <td>/content/drive/MyDrive/stone_pelting_project/s...</td>\n",
              "      <td>stonepelting</td>\n",
              "    </tr>\n",
              "    <tr>\n",
              "      <th>23</th>\n",
              "      <td>/content/drive/MyDrive/stone_pelting_project/s...</td>\n",
              "      <td>stonepelting</td>\n",
              "    </tr>\n",
              "    <tr>\n",
              "      <th>24</th>\n",
              "      <td>/content/drive/MyDrive/stone_pelting_project/n...</td>\n",
              "      <td>nostonepelting</td>\n",
              "    </tr>\n",
              "    <tr>\n",
              "      <th>25</th>\n",
              "      <td>/content/drive/MyDrive/stone_pelting_project/s...</td>\n",
              "      <td>stonepelting</td>\n",
              "    </tr>\n",
              "    <tr>\n",
              "      <th>26</th>\n",
              "      <td>/content/drive/MyDrive/stone_pelting_project/s...</td>\n",
              "      <td>stonepelting</td>\n",
              "    </tr>\n",
              "    <tr>\n",
              "      <th>27</th>\n",
              "      <td>/content/drive/MyDrive/stone_pelting_project/s...</td>\n",
              "      <td>stonepelting</td>\n",
              "    </tr>\n",
              "    <tr>\n",
              "      <th>28</th>\n",
              "      <td>/content/drive/MyDrive/stone_pelting_project/n...</td>\n",
              "      <td>nostonepelting</td>\n",
              "    </tr>\n",
              "    <tr>\n",
              "      <th>29</th>\n",
              "      <td>/content/drive/MyDrive/stone_pelting_project/n...</td>\n",
              "      <td>nostonepelting</td>\n",
              "    </tr>\n",
              "  </tbody>\n",
              "</table>\n",
              "</div>\n",
              "      <button class=\"colab-df-convert\" onclick=\"convertToInteractive('df-c04681f3-bc0e-420b-a8b6-3971e6035828')\"\n",
              "              title=\"Convert this dataframe to an interactive table.\"\n",
              "              style=\"display:none;\">\n",
              "        \n",
              "  <svg xmlns=\"http://www.w3.org/2000/svg\" height=\"24px\"viewBox=\"0 0 24 24\"\n",
              "       width=\"24px\">\n",
              "    <path d=\"M0 0h24v24H0V0z\" fill=\"none\"/>\n",
              "    <path d=\"M18.56 5.44l.94 2.06.94-2.06 2.06-.94-2.06-.94-.94-2.06-.94 2.06-2.06.94zm-11 1L8.5 8.5l.94-2.06 2.06-.94-2.06-.94L8.5 2.5l-.94 2.06-2.06.94zm10 10l.94 2.06.94-2.06 2.06-.94-2.06-.94-.94-2.06-.94 2.06-2.06.94z\"/><path d=\"M17.41 7.96l-1.37-1.37c-.4-.4-.92-.59-1.43-.59-.52 0-1.04.2-1.43.59L10.3 9.45l-7.72 7.72c-.78.78-.78 2.05 0 2.83L4 21.41c.39.39.9.59 1.41.59.51 0 1.02-.2 1.41-.59l7.78-7.78 2.81-2.81c.8-.78.8-2.07 0-2.86zM5.41 20L4 18.59l7.72-7.72 1.47 1.35L5.41 20z\"/>\n",
              "  </svg>\n",
              "      </button>\n",
              "      \n",
              "  <style>\n",
              "    .colab-df-container {\n",
              "      display:flex;\n",
              "      flex-wrap:wrap;\n",
              "      gap: 12px;\n",
              "    }\n",
              "\n",
              "    .colab-df-convert {\n",
              "      background-color: #E8F0FE;\n",
              "      border: none;\n",
              "      border-radius: 50%;\n",
              "      cursor: pointer;\n",
              "      display: none;\n",
              "      fill: #1967D2;\n",
              "      height: 32px;\n",
              "      padding: 0 0 0 0;\n",
              "      width: 32px;\n",
              "    }\n",
              "\n",
              "    .colab-df-convert:hover {\n",
              "      background-color: #E2EBFA;\n",
              "      box-shadow: 0px 1px 2px rgba(60, 64, 67, 0.3), 0px 1px 3px 1px rgba(60, 64, 67, 0.15);\n",
              "      fill: #174EA6;\n",
              "    }\n",
              "\n",
              "    [theme=dark] .colab-df-convert {\n",
              "      background-color: #3B4455;\n",
              "      fill: #D2E3FC;\n",
              "    }\n",
              "\n",
              "    [theme=dark] .colab-df-convert:hover {\n",
              "      background-color: #434B5C;\n",
              "      box-shadow: 0px 1px 3px 1px rgba(0, 0, 0, 0.15);\n",
              "      filter: drop-shadow(0px 1px 2px rgba(0, 0, 0, 0.3));\n",
              "      fill: #FFFFFF;\n",
              "    }\n",
              "  </style>\n",
              "\n",
              "      <script>\n",
              "        const buttonEl =\n",
              "          document.querySelector('#df-c04681f3-bc0e-420b-a8b6-3971e6035828 button.colab-df-convert');\n",
              "        buttonEl.style.display =\n",
              "          google.colab.kernel.accessAllowed ? 'block' : 'none';\n",
              "\n",
              "        async function convertToInteractive(key) {\n",
              "          const element = document.querySelector('#df-c04681f3-bc0e-420b-a8b6-3971e6035828');\n",
              "          const dataTable =\n",
              "            await google.colab.kernel.invokeFunction('convertToInteractive',\n",
              "                                                     [key], {});\n",
              "          if (!dataTable) return;\n",
              "\n",
              "          const docLinkHtml = 'Like what you see? Visit the ' +\n",
              "            '<a target=\"_blank\" href=https://colab.research.google.com/notebooks/data_table.ipynb>data table notebook</a>'\n",
              "            + ' to learn more about interactive tables.';\n",
              "          element.innerHTML = '';\n",
              "          dataTable['output_type'] = 'display_data';\n",
              "          await google.colab.output.renderOutput(dataTable, element);\n",
              "          const docLink = document.createElement('div');\n",
              "          docLink.innerHTML = docLinkHtml;\n",
              "          element.appendChild(docLink);\n",
              "        }\n",
              "      </script>\n",
              "    </div>\n",
              "  </div>\n",
              "  "
            ]
          },
          "metadata": {},
          "execution_count": 34
        }
      ],
      "source": [
        "master_data"
      ]
    },
    {
      "cell_type": "markdown",
      "metadata": {
        "id": "hf0p2lYPzGua"
      },
      "source": [
        "Train ,Test, Validation"
      ]
    },
    {
      "cell_type": "code",
      "execution_count": null,
      "metadata": {
        "id": "vQdnkqI6yZqC"
      },
      "outputs": [],
      "source": [
        "x = master_data.values"
      ]
    },
    {
      "cell_type": "code",
      "execution_count": null,
      "metadata": {
        "colab": {
          "base_uri": "https://localhost:8080/"
        },
        "id": "39IxlXjFzO6v",
        "outputId": "18f13acc-93b1-41a0-bcb6-7ca88f3d6c19"
      },
      "outputs": [
        {
          "output_type": "execute_result",
          "data": {
            "text/plain": [
              "30"
            ]
          },
          "metadata": {},
          "execution_count": 38
        }
      ],
      "source": [
        "len(x)"
      ]
    },
    {
      "cell_type": "code",
      "execution_count": null,
      "metadata": {
        "id": "OubyA-iyzQDz"
      },
      "outputs": [],
      "source": [
        "cols=master_data.columns.values"
      ]
    },
    {
      "cell_type": "code",
      "execution_count": null,
      "metadata": {
        "colab": {
          "base_uri": "https://localhost:8080/"
        },
        "id": "YMXIj2qSzc-Z",
        "outputId": "68f9d625-4569-4ffe-d9cf-8a08fa107571"
      },
      "outputs": [
        {
          "output_type": "execute_result",
          "data": {
            "text/plain": [
              "array(['File_Name', 'Labels'], dtype=object)"
            ]
          },
          "metadata": {},
          "execution_count": 40
        }
      ],
      "source": [
        "cols"
      ]
    },
    {
      "cell_type": "code",
      "execution_count": null,
      "metadata": {
        "id": "_rLVMHKmzd2h"
      },
      "outputs": [],
      "source": [
        "df_train = x[:int(len(x)*.90)]"
      ]
    },
    {
      "cell_type": "code",
      "execution_count": null,
      "metadata": {
        "id": "kndjp36WzshQ"
      },
      "outputs": [],
      "source": [
        "# df_test = x[int(len(x)*.80):int(len(x)*.90)]\n",
        "\n",
        "df_test = x[int(len(x)*.90):]"
      ]
    },
    {
      "cell_type": "code",
      "execution_count": null,
      "metadata": {
        "colab": {
          "base_uri": "https://localhost:8080/"
        },
        "id": "5dD9lLkbAUU6",
        "outputId": "0e678139-cbde-4898-98b5-6e66d529c1c9"
      },
      "outputs": [
        {
          "output_type": "execute_result",
          "data": {
            "text/plain": [
              "array([['/content/drive/MyDrive/stone_pelting_project/stone_pelting/images (5).jpg_stonepelting.jpg_stonepelting.jpg_stonepelting.jpg_stonepelting.jpg',\n",
              "        'stonepelting'],\n",
              "       ['/content/drive/MyDrive/stone_pelting_project/no_stone_pelting/main-qimg-01d31854552dbf31e5c53af89cbc5ed3-lq.jpg_nostonepelting.jpg_nostonepelting.jpg_nostonepelting.jpg_nostonepelting.jpg',\n",
              "        'nostonepelting'],\n",
              "       ['/content/drive/MyDrive/stone_pelting_project/stone_pelting/images (2).jpg_stonepelting.jpg_stonepelting.jpg_stonepelting.jpg_stonepelting.jpg',\n",
              "        'stonepelting'],\n",
              "       ['/content/drive/MyDrive/stone_pelting_project/no_stone_pelting/istockphoto-1267332085-170667a.jpg_nostonepelting.jpg_nostonepelting.jpg_nostonepelting.jpg_nostonepelting.jpg',\n",
              "        'nostonepelting'],\n",
              "       ['/content/drive/MyDrive/stone_pelting_project/stone_pelting/images (1).jpg_stonepelting.jpg_stonepelting.jpg_stonepelting.jpg_stonepelting.jpg',\n",
              "        'stonepelting'],\n",
              "       ['/content/drive/MyDrive/stone_pelting_project/no_stone_pelting/images (3).jpg_nostonepelting.jpg_nostonepelting.jpg_nostonepelting.jpg_nostonepelting.jpg',\n",
              "        'nostonepelting'],\n",
              "       ['/content/drive/MyDrive/stone_pelting_project/stone_pelting/kashmir3.jpg_stonepelting.jpg_stonepelting.jpg_stonepelting.jpg_stonepelting.jpg',\n",
              "        'stonepelting'],\n",
              "       ['/content/drive/MyDrive/stone_pelting_project/stone_pelting/thumb.jpg_stonepelting.jpg_stonepelting.jpg_stonepelting.jpg_stonepelting.jpg',\n",
              "        'stonepelting'],\n",
              "       ['/content/drive/MyDrive/stone_pelting_project/stone_pelting/download.jpg_stonepelting.jpg_stonepelting.jpg_stonepelting.jpg_stonepelting.jpg',\n",
              "        'stonepelting'],\n",
              "       ['/content/drive/MyDrive/stone_pelting_project/stone_pelting/images.jpg_stonepelting.jpg_stonepelting.jpg_stonepelting.jpg_stonepelting.jpg',\n",
              "        'stonepelting'],\n",
              "       ['/content/drive/MyDrive/stone_pelting_project/stone_pelting/stone-pelting.jpg_stonepelting.jpg_stonepelting.jpg_stonepelting.jpg_stonepelting.jpg',\n",
              "        'stonepelting'],\n",
              "       ['/content/drive/MyDrive/stone_pelting_project/no_stone_pelting/images.jpg_nostonepelting.jpg_nostonepelting.jpg_nostonepelting.jpg_nostonepelting.jpg',\n",
              "        'nostonepelting'],\n",
              "       ['/content/drive/MyDrive/stone_pelting_project/stone_pelting/images (4).jpg_stonepelting.jpg_stonepelting.jpg_stonepelting.jpg_stonepelting.jpg',\n",
              "        'stonepelting'],\n",
              "       ['/content/drive/MyDrive/stone_pelting_project/stone_pelting/images (3).jpg_stonepelting.jpg_stonepelting.jpg_stonepelting.jpg_stonepelting.jpg',\n",
              "        'stonepelting'],\n",
              "       ['/content/drive/MyDrive/stone_pelting_project/no_stone_pelting/fight.jpg_nostonepelting.jpg_nostonepelting.jpg_nostonepelting.jpg_nostonepelting.jpg',\n",
              "        'nostonepelting'],\n",
              "       ['/content/drive/MyDrive/stone_pelting_project/stone_pelting/7-kashmiri-protesters-throw-rocks-and-bricks-at-indian-policemen-in-srinagar-indian-controlled-kashmir-saturday-april-1-2017-1513695034.jpg_stonepelting.jpg_stonepelting.jpg_stonepelting.jpg_stonepelting.jpg',\n",
              "        'stonepelting'],\n",
              "       ['/content/drive/MyDrive/stone_pelting_project/stone_pelting/861928-oabycoyeip-1513691542.jpg_stonepelting.jpg_stonepelting.jpg_stonepelting.jpg_stonepelting.jpg',\n",
              "        'stonepelting'],\n",
              "       ['/content/drive/MyDrive/stone_pelting_project/no_stone_pelting/istockphoto-125556059-612x612.jpg_nostonepelting.jpg_nostonepelting.jpg_nostonepelting.jpg_nostonepelting.jpg',\n",
              "        'nostonepelting'],\n",
              "       ['/content/drive/MyDrive/stone_pelting_project/no_stone_pelting/FARMERS_PROTEST.jpg_nostonepelting.jpg_nostonepelting.jpg_nostonepelting.jpg_nostonepelting.jpg',\n",
              "        'nostonepelting'],\n",
              "       ['/content/drive/MyDrive/stone_pelting_project/no_stone_pelting/download.jpg_nostonepelting.jpg_nostonepelting.jpg_nostonepelting.jpg_nostonepelting.jpg',\n",
              "        'nostonepelting'],\n",
              "       ['/content/drive/MyDrive/stone_pelting_project/no_stone_pelting/images (1).jpg_nostonepelting.jpg_nostonepelting.jpg_nostonepelting.jpg_nostonepelting.jpg',\n",
              "        'nostonepelting'],\n",
              "       ['/content/drive/MyDrive/stone_pelting_project/stone_pelting/stone-pelting-story_647_092716042610_061617045320.jpg_stonepelting.jpg_stonepelting.jpg_stonepelting.jpg_stonepelting.jpg',\n",
              "        'stonepelting'],\n",
              "       ['/content/drive/MyDrive/stone_pelting_project/stone_pelting/648185-stone-pelters-dna-file.jpg_stonepelting.jpg_stonepelting.jpg_stonepelting.jpg_stonepelting.jpg',\n",
              "        'stonepelting'],\n",
              "       ['/content/drive/MyDrive/stone_pelting_project/stone_pelting/607972.jpg_stonepelting.jpg_stonepelting.jpg_stonepelting.jpg_stonepelting.jpg',\n",
              "        'stonepelting'],\n",
              "       ['/content/drive/MyDrive/stone_pelting_project/no_stone_pelting/main-qimg-9d5ac50d5d1dc7cf62eb3d9844b639de.jpg_nostonepelting.jpg_nostonepelting.jpg_nostonepelting.jpg_nostonepelting.jpg',\n",
              "        'nostonepelting'],\n",
              "       ['/content/drive/MyDrive/stone_pelting_project/stone_pelting/22kashmir3.jpg_stonepelting.jpg_stonepelting.jpg_stonepelting.jpg_stonepelting.jpg',\n",
              "        'stonepelting'],\n",
              "       ['/content/drive/MyDrive/stone_pelting_project/stone_pelting/668397-stone-pelters-kashmir.jpg_stonepelting.jpg_stonepelting.jpg_stonepelting.jpg_stonepelting.jpg',\n",
              "        'stonepelting']], dtype=object)"
            ]
          },
          "metadata": {},
          "execution_count": 43
        }
      ],
      "source": [
        "df_train"
      ]
    },
    {
      "cell_type": "code",
      "execution_count": null,
      "metadata": {
        "id": "IcPCsiPiz8SM"
      },
      "outputs": [],
      "source": [
        "df_train = pd.DataFrame(df_train,columns=cols)"
      ]
    },
    {
      "cell_type": "code",
      "execution_count": null,
      "metadata": {
        "id": "DaNF7OB00uP9"
      },
      "outputs": [],
      "source": [
        "df_test = pd.DataFrame(df_test,columns=cols)\n",
        "# df_validation = pd.DataFrame(df_validation,columns=cols)"
      ]
    },
    {
      "cell_type": "code",
      "execution_count": null,
      "metadata": {
        "colab": {
          "base_uri": "https://localhost:8080/",
          "height": 896
        },
        "id": "d-7fTFG80eNj",
        "outputId": "623ac089-5082-451a-d9a9-d62153be1b8e"
      },
      "outputs": [
        {
          "output_type": "execute_result",
          "data": {
            "text/plain": [
              "                                            File_Name          Labels\n",
              "0   /content/drive/MyDrive/stone_pelting_project/s...    stonepelting\n",
              "1   /content/drive/MyDrive/stone_pelting_project/n...  nostonepelting\n",
              "2   /content/drive/MyDrive/stone_pelting_project/s...    stonepelting\n",
              "3   /content/drive/MyDrive/stone_pelting_project/n...  nostonepelting\n",
              "4   /content/drive/MyDrive/stone_pelting_project/s...    stonepelting\n",
              "5   /content/drive/MyDrive/stone_pelting_project/n...  nostonepelting\n",
              "6   /content/drive/MyDrive/stone_pelting_project/s...    stonepelting\n",
              "7   /content/drive/MyDrive/stone_pelting_project/s...    stonepelting\n",
              "8   /content/drive/MyDrive/stone_pelting_project/s...    stonepelting\n",
              "9   /content/drive/MyDrive/stone_pelting_project/s...    stonepelting\n",
              "10  /content/drive/MyDrive/stone_pelting_project/s...    stonepelting\n",
              "11  /content/drive/MyDrive/stone_pelting_project/n...  nostonepelting\n",
              "12  /content/drive/MyDrive/stone_pelting_project/s...    stonepelting\n",
              "13  /content/drive/MyDrive/stone_pelting_project/s...    stonepelting\n",
              "14  /content/drive/MyDrive/stone_pelting_project/n...  nostonepelting\n",
              "15  /content/drive/MyDrive/stone_pelting_project/s...    stonepelting\n",
              "16  /content/drive/MyDrive/stone_pelting_project/s...    stonepelting\n",
              "17  /content/drive/MyDrive/stone_pelting_project/n...  nostonepelting\n",
              "18  /content/drive/MyDrive/stone_pelting_project/n...  nostonepelting\n",
              "19  /content/drive/MyDrive/stone_pelting_project/n...  nostonepelting\n",
              "20  /content/drive/MyDrive/stone_pelting_project/n...  nostonepelting\n",
              "21  /content/drive/MyDrive/stone_pelting_project/s...    stonepelting\n",
              "22  /content/drive/MyDrive/stone_pelting_project/s...    stonepelting\n",
              "23  /content/drive/MyDrive/stone_pelting_project/s...    stonepelting\n",
              "24  /content/drive/MyDrive/stone_pelting_project/n...  nostonepelting\n",
              "25  /content/drive/MyDrive/stone_pelting_project/s...    stonepelting\n",
              "26  /content/drive/MyDrive/stone_pelting_project/s...    stonepelting"
            ],
            "text/html": [
              "\n",
              "  <div id=\"df-7af1a1e6-a76a-4594-a394-f9d0718f4e43\">\n",
              "    <div class=\"colab-df-container\">\n",
              "      <div>\n",
              "<style scoped>\n",
              "    .dataframe tbody tr th:only-of-type {\n",
              "        vertical-align: middle;\n",
              "    }\n",
              "\n",
              "    .dataframe tbody tr th {\n",
              "        vertical-align: top;\n",
              "    }\n",
              "\n",
              "    .dataframe thead th {\n",
              "        text-align: right;\n",
              "    }\n",
              "</style>\n",
              "<table border=\"1\" class=\"dataframe\">\n",
              "  <thead>\n",
              "    <tr style=\"text-align: right;\">\n",
              "      <th></th>\n",
              "      <th>File_Name</th>\n",
              "      <th>Labels</th>\n",
              "    </tr>\n",
              "  </thead>\n",
              "  <tbody>\n",
              "    <tr>\n",
              "      <th>0</th>\n",
              "      <td>/content/drive/MyDrive/stone_pelting_project/s...</td>\n",
              "      <td>stonepelting</td>\n",
              "    </tr>\n",
              "    <tr>\n",
              "      <th>1</th>\n",
              "      <td>/content/drive/MyDrive/stone_pelting_project/n...</td>\n",
              "      <td>nostonepelting</td>\n",
              "    </tr>\n",
              "    <tr>\n",
              "      <th>2</th>\n",
              "      <td>/content/drive/MyDrive/stone_pelting_project/s...</td>\n",
              "      <td>stonepelting</td>\n",
              "    </tr>\n",
              "    <tr>\n",
              "      <th>3</th>\n",
              "      <td>/content/drive/MyDrive/stone_pelting_project/n...</td>\n",
              "      <td>nostonepelting</td>\n",
              "    </tr>\n",
              "    <tr>\n",
              "      <th>4</th>\n",
              "      <td>/content/drive/MyDrive/stone_pelting_project/s...</td>\n",
              "      <td>stonepelting</td>\n",
              "    </tr>\n",
              "    <tr>\n",
              "      <th>5</th>\n",
              "      <td>/content/drive/MyDrive/stone_pelting_project/n...</td>\n",
              "      <td>nostonepelting</td>\n",
              "    </tr>\n",
              "    <tr>\n",
              "      <th>6</th>\n",
              "      <td>/content/drive/MyDrive/stone_pelting_project/s...</td>\n",
              "      <td>stonepelting</td>\n",
              "    </tr>\n",
              "    <tr>\n",
              "      <th>7</th>\n",
              "      <td>/content/drive/MyDrive/stone_pelting_project/s...</td>\n",
              "      <td>stonepelting</td>\n",
              "    </tr>\n",
              "    <tr>\n",
              "      <th>8</th>\n",
              "      <td>/content/drive/MyDrive/stone_pelting_project/s...</td>\n",
              "      <td>stonepelting</td>\n",
              "    </tr>\n",
              "    <tr>\n",
              "      <th>9</th>\n",
              "      <td>/content/drive/MyDrive/stone_pelting_project/s...</td>\n",
              "      <td>stonepelting</td>\n",
              "    </tr>\n",
              "    <tr>\n",
              "      <th>10</th>\n",
              "      <td>/content/drive/MyDrive/stone_pelting_project/s...</td>\n",
              "      <td>stonepelting</td>\n",
              "    </tr>\n",
              "    <tr>\n",
              "      <th>11</th>\n",
              "      <td>/content/drive/MyDrive/stone_pelting_project/n...</td>\n",
              "      <td>nostonepelting</td>\n",
              "    </tr>\n",
              "    <tr>\n",
              "      <th>12</th>\n",
              "      <td>/content/drive/MyDrive/stone_pelting_project/s...</td>\n",
              "      <td>stonepelting</td>\n",
              "    </tr>\n",
              "    <tr>\n",
              "      <th>13</th>\n",
              "      <td>/content/drive/MyDrive/stone_pelting_project/s...</td>\n",
              "      <td>stonepelting</td>\n",
              "    </tr>\n",
              "    <tr>\n",
              "      <th>14</th>\n",
              "      <td>/content/drive/MyDrive/stone_pelting_project/n...</td>\n",
              "      <td>nostonepelting</td>\n",
              "    </tr>\n",
              "    <tr>\n",
              "      <th>15</th>\n",
              "      <td>/content/drive/MyDrive/stone_pelting_project/s...</td>\n",
              "      <td>stonepelting</td>\n",
              "    </tr>\n",
              "    <tr>\n",
              "      <th>16</th>\n",
              "      <td>/content/drive/MyDrive/stone_pelting_project/s...</td>\n",
              "      <td>stonepelting</td>\n",
              "    </tr>\n",
              "    <tr>\n",
              "      <th>17</th>\n",
              "      <td>/content/drive/MyDrive/stone_pelting_project/n...</td>\n",
              "      <td>nostonepelting</td>\n",
              "    </tr>\n",
              "    <tr>\n",
              "      <th>18</th>\n",
              "      <td>/content/drive/MyDrive/stone_pelting_project/n...</td>\n",
              "      <td>nostonepelting</td>\n",
              "    </tr>\n",
              "    <tr>\n",
              "      <th>19</th>\n",
              "      <td>/content/drive/MyDrive/stone_pelting_project/n...</td>\n",
              "      <td>nostonepelting</td>\n",
              "    </tr>\n",
              "    <tr>\n",
              "      <th>20</th>\n",
              "      <td>/content/drive/MyDrive/stone_pelting_project/n...</td>\n",
              "      <td>nostonepelting</td>\n",
              "    </tr>\n",
              "    <tr>\n",
              "      <th>21</th>\n",
              "      <td>/content/drive/MyDrive/stone_pelting_project/s...</td>\n",
              "      <td>stonepelting</td>\n",
              "    </tr>\n",
              "    <tr>\n",
              "      <th>22</th>\n",
              "      <td>/content/drive/MyDrive/stone_pelting_project/s...</td>\n",
              "      <td>stonepelting</td>\n",
              "    </tr>\n",
              "    <tr>\n",
              "      <th>23</th>\n",
              "      <td>/content/drive/MyDrive/stone_pelting_project/s...</td>\n",
              "      <td>stonepelting</td>\n",
              "    </tr>\n",
              "    <tr>\n",
              "      <th>24</th>\n",
              "      <td>/content/drive/MyDrive/stone_pelting_project/n...</td>\n",
              "      <td>nostonepelting</td>\n",
              "    </tr>\n",
              "    <tr>\n",
              "      <th>25</th>\n",
              "      <td>/content/drive/MyDrive/stone_pelting_project/s...</td>\n",
              "      <td>stonepelting</td>\n",
              "    </tr>\n",
              "    <tr>\n",
              "      <th>26</th>\n",
              "      <td>/content/drive/MyDrive/stone_pelting_project/s...</td>\n",
              "      <td>stonepelting</td>\n",
              "    </tr>\n",
              "  </tbody>\n",
              "</table>\n",
              "</div>\n",
              "      <button class=\"colab-df-convert\" onclick=\"convertToInteractive('df-7af1a1e6-a76a-4594-a394-f9d0718f4e43')\"\n",
              "              title=\"Convert this dataframe to an interactive table.\"\n",
              "              style=\"display:none;\">\n",
              "        \n",
              "  <svg xmlns=\"http://www.w3.org/2000/svg\" height=\"24px\"viewBox=\"0 0 24 24\"\n",
              "       width=\"24px\">\n",
              "    <path d=\"M0 0h24v24H0V0z\" fill=\"none\"/>\n",
              "    <path d=\"M18.56 5.44l.94 2.06.94-2.06 2.06-.94-2.06-.94-.94-2.06-.94 2.06-2.06.94zm-11 1L8.5 8.5l.94-2.06 2.06-.94-2.06-.94L8.5 2.5l-.94 2.06-2.06.94zm10 10l.94 2.06.94-2.06 2.06-.94-2.06-.94-.94-2.06-.94 2.06-2.06.94z\"/><path d=\"M17.41 7.96l-1.37-1.37c-.4-.4-.92-.59-1.43-.59-.52 0-1.04.2-1.43.59L10.3 9.45l-7.72 7.72c-.78.78-.78 2.05 0 2.83L4 21.41c.39.39.9.59 1.41.59.51 0 1.02-.2 1.41-.59l7.78-7.78 2.81-2.81c.8-.78.8-2.07 0-2.86zM5.41 20L4 18.59l7.72-7.72 1.47 1.35L5.41 20z\"/>\n",
              "  </svg>\n",
              "      </button>\n",
              "      \n",
              "  <style>\n",
              "    .colab-df-container {\n",
              "      display:flex;\n",
              "      flex-wrap:wrap;\n",
              "      gap: 12px;\n",
              "    }\n",
              "\n",
              "    .colab-df-convert {\n",
              "      background-color: #E8F0FE;\n",
              "      border: none;\n",
              "      border-radius: 50%;\n",
              "      cursor: pointer;\n",
              "      display: none;\n",
              "      fill: #1967D2;\n",
              "      height: 32px;\n",
              "      padding: 0 0 0 0;\n",
              "      width: 32px;\n",
              "    }\n",
              "\n",
              "    .colab-df-convert:hover {\n",
              "      background-color: #E2EBFA;\n",
              "      box-shadow: 0px 1px 2px rgba(60, 64, 67, 0.3), 0px 1px 3px 1px rgba(60, 64, 67, 0.15);\n",
              "      fill: #174EA6;\n",
              "    }\n",
              "\n",
              "    [theme=dark] .colab-df-convert {\n",
              "      background-color: #3B4455;\n",
              "      fill: #D2E3FC;\n",
              "    }\n",
              "\n",
              "    [theme=dark] .colab-df-convert:hover {\n",
              "      background-color: #434B5C;\n",
              "      box-shadow: 0px 1px 3px 1px rgba(0, 0, 0, 0.15);\n",
              "      filter: drop-shadow(0px 1px 2px rgba(0, 0, 0, 0.3));\n",
              "      fill: #FFFFFF;\n",
              "    }\n",
              "  </style>\n",
              "\n",
              "      <script>\n",
              "        const buttonEl =\n",
              "          document.querySelector('#df-7af1a1e6-a76a-4594-a394-f9d0718f4e43 button.colab-df-convert');\n",
              "        buttonEl.style.display =\n",
              "          google.colab.kernel.accessAllowed ? 'block' : 'none';\n",
              "\n",
              "        async function convertToInteractive(key) {\n",
              "          const element = document.querySelector('#df-7af1a1e6-a76a-4594-a394-f9d0718f4e43');\n",
              "          const dataTable =\n",
              "            await google.colab.kernel.invokeFunction('convertToInteractive',\n",
              "                                                     [key], {});\n",
              "          if (!dataTable) return;\n",
              "\n",
              "          const docLinkHtml = 'Like what you see? Visit the ' +\n",
              "            '<a target=\"_blank\" href=https://colab.research.google.com/notebooks/data_table.ipynb>data table notebook</a>'\n",
              "            + ' to learn more about interactive tables.';\n",
              "          element.innerHTML = '';\n",
              "          dataTable['output_type'] = 'display_data';\n",
              "          await google.colab.output.renderOutput(dataTable, element);\n",
              "          const docLink = document.createElement('div');\n",
              "          docLink.innerHTML = docLinkHtml;\n",
              "          element.appendChild(docLink);\n",
              "        }\n",
              "      </script>\n",
              "    </div>\n",
              "  </div>\n",
              "  "
            ]
          },
          "metadata": {},
          "execution_count": 46
        }
      ],
      "source": [
        "df_train"
      ]
    },
    {
      "cell_type": "code",
      "execution_count": null,
      "metadata": {
        "colab": {
          "base_uri": "https://localhost:8080/"
        },
        "id": "Hi3A0KBmArP0",
        "outputId": "5c1c20fd-cace-44ea-d68c-91e0ce2ace55"
      },
      "outputs": [
        {
          "output_type": "execute_result",
          "data": {
            "text/plain": [
              "stonepelting      17\n",
              "nostonepelting    10\n",
              "Name: Labels, dtype: int64"
            ]
          },
          "metadata": {},
          "execution_count": 47
        }
      ],
      "source": [
        "df_train['Labels'].value_counts()"
      ]
    },
    {
      "cell_type": "code",
      "execution_count": null,
      "metadata": {
        "id": "XA350qYM1Gio"
      },
      "outputs": [],
      "source": [
        "df_train.to_csv(\"Training_csv.csv\",index=False)"
      ]
    },
    {
      "cell_type": "code",
      "execution_count": null,
      "metadata": {
        "colab": {
          "base_uri": "https://localhost:8080/",
          "height": 143
        },
        "id": "5nkhsy2p0qHG",
        "outputId": "b79f0331-98a2-4002-fb70-e87a9c2539f9"
      },
      "outputs": [
        {
          "output_type": "execute_result",
          "data": {
            "text/plain": [
              "                                           File_Name          Labels\n",
              "0  /content/drive/MyDrive/stone_pelting_project/s...    stonepelting\n",
              "1  /content/drive/MyDrive/stone_pelting_project/n...  nostonepelting\n",
              "2  /content/drive/MyDrive/stone_pelting_project/n...  nostonepelting"
            ],
            "text/html": [
              "\n",
              "  <div id=\"df-cfcf4726-6a47-45a4-8fdd-5ce1861e26c6\">\n",
              "    <div class=\"colab-df-container\">\n",
              "      <div>\n",
              "<style scoped>\n",
              "    .dataframe tbody tr th:only-of-type {\n",
              "        vertical-align: middle;\n",
              "    }\n",
              "\n",
              "    .dataframe tbody tr th {\n",
              "        vertical-align: top;\n",
              "    }\n",
              "\n",
              "    .dataframe thead th {\n",
              "        text-align: right;\n",
              "    }\n",
              "</style>\n",
              "<table border=\"1\" class=\"dataframe\">\n",
              "  <thead>\n",
              "    <tr style=\"text-align: right;\">\n",
              "      <th></th>\n",
              "      <th>File_Name</th>\n",
              "      <th>Labels</th>\n",
              "    </tr>\n",
              "  </thead>\n",
              "  <tbody>\n",
              "    <tr>\n",
              "      <th>0</th>\n",
              "      <td>/content/drive/MyDrive/stone_pelting_project/s...</td>\n",
              "      <td>stonepelting</td>\n",
              "    </tr>\n",
              "    <tr>\n",
              "      <th>1</th>\n",
              "      <td>/content/drive/MyDrive/stone_pelting_project/n...</td>\n",
              "      <td>nostonepelting</td>\n",
              "    </tr>\n",
              "    <tr>\n",
              "      <th>2</th>\n",
              "      <td>/content/drive/MyDrive/stone_pelting_project/n...</td>\n",
              "      <td>nostonepelting</td>\n",
              "    </tr>\n",
              "  </tbody>\n",
              "</table>\n",
              "</div>\n",
              "      <button class=\"colab-df-convert\" onclick=\"convertToInteractive('df-cfcf4726-6a47-45a4-8fdd-5ce1861e26c6')\"\n",
              "              title=\"Convert this dataframe to an interactive table.\"\n",
              "              style=\"display:none;\">\n",
              "        \n",
              "  <svg xmlns=\"http://www.w3.org/2000/svg\" height=\"24px\"viewBox=\"0 0 24 24\"\n",
              "       width=\"24px\">\n",
              "    <path d=\"M0 0h24v24H0V0z\" fill=\"none\"/>\n",
              "    <path d=\"M18.56 5.44l.94 2.06.94-2.06 2.06-.94-2.06-.94-.94-2.06-.94 2.06-2.06.94zm-11 1L8.5 8.5l.94-2.06 2.06-.94-2.06-.94L8.5 2.5l-.94 2.06-2.06.94zm10 10l.94 2.06.94-2.06 2.06-.94-2.06-.94-.94-2.06-.94 2.06-2.06.94z\"/><path d=\"M17.41 7.96l-1.37-1.37c-.4-.4-.92-.59-1.43-.59-.52 0-1.04.2-1.43.59L10.3 9.45l-7.72 7.72c-.78.78-.78 2.05 0 2.83L4 21.41c.39.39.9.59 1.41.59.51 0 1.02-.2 1.41-.59l7.78-7.78 2.81-2.81c.8-.78.8-2.07 0-2.86zM5.41 20L4 18.59l7.72-7.72 1.47 1.35L5.41 20z\"/>\n",
              "  </svg>\n",
              "      </button>\n",
              "      \n",
              "  <style>\n",
              "    .colab-df-container {\n",
              "      display:flex;\n",
              "      flex-wrap:wrap;\n",
              "      gap: 12px;\n",
              "    }\n",
              "\n",
              "    .colab-df-convert {\n",
              "      background-color: #E8F0FE;\n",
              "      border: none;\n",
              "      border-radius: 50%;\n",
              "      cursor: pointer;\n",
              "      display: none;\n",
              "      fill: #1967D2;\n",
              "      height: 32px;\n",
              "      padding: 0 0 0 0;\n",
              "      width: 32px;\n",
              "    }\n",
              "\n",
              "    .colab-df-convert:hover {\n",
              "      background-color: #E2EBFA;\n",
              "      box-shadow: 0px 1px 2px rgba(60, 64, 67, 0.3), 0px 1px 3px 1px rgba(60, 64, 67, 0.15);\n",
              "      fill: #174EA6;\n",
              "    }\n",
              "\n",
              "    [theme=dark] .colab-df-convert {\n",
              "      background-color: #3B4455;\n",
              "      fill: #D2E3FC;\n",
              "    }\n",
              "\n",
              "    [theme=dark] .colab-df-convert:hover {\n",
              "      background-color: #434B5C;\n",
              "      box-shadow: 0px 1px 3px 1px rgba(0, 0, 0, 0.15);\n",
              "      filter: drop-shadow(0px 1px 2px rgba(0, 0, 0, 0.3));\n",
              "      fill: #FFFFFF;\n",
              "    }\n",
              "  </style>\n",
              "\n",
              "      <script>\n",
              "        const buttonEl =\n",
              "          document.querySelector('#df-cfcf4726-6a47-45a4-8fdd-5ce1861e26c6 button.colab-df-convert');\n",
              "        buttonEl.style.display =\n",
              "          google.colab.kernel.accessAllowed ? 'block' : 'none';\n",
              "\n",
              "        async function convertToInteractive(key) {\n",
              "          const element = document.querySelector('#df-cfcf4726-6a47-45a4-8fdd-5ce1861e26c6');\n",
              "          const dataTable =\n",
              "            await google.colab.kernel.invokeFunction('convertToInteractive',\n",
              "                                                     [key], {});\n",
              "          if (!dataTable) return;\n",
              "\n",
              "          const docLinkHtml = 'Like what you see? Visit the ' +\n",
              "            '<a target=\"_blank\" href=https://colab.research.google.com/notebooks/data_table.ipynb>data table notebook</a>'\n",
              "            + ' to learn more about interactive tables.';\n",
              "          element.innerHTML = '';\n",
              "          dataTable['output_type'] = 'display_data';\n",
              "          await google.colab.output.renderOutput(dataTable, element);\n",
              "          const docLink = document.createElement('div');\n",
              "          docLink.innerHTML = docLinkHtml;\n",
              "          element.appendChild(docLink);\n",
              "        }\n",
              "      </script>\n",
              "    </div>\n",
              "  </div>\n",
              "  "
            ]
          },
          "metadata": {},
          "execution_count": 49
        }
      ],
      "source": [
        "df_test"
      ]
    },
    {
      "cell_type": "code",
      "execution_count": null,
      "metadata": {
        "id": "ZOw8gEdcBheU"
      },
      "outputs": [],
      "source": [
        "from keras.models import Sequential,Model\n",
        "from keras.layers import Dense,Flatten,Dropout\n",
        "from keras.preprocessing.image import ImageDataGenerator"
      ]
    },
    {
      "cell_type": "code",
      "execution_count": null,
      "metadata": {
        "id": "IIn9qkSdCO1a"
      },
      "outputs": [],
      "source": [
        "from keras.callbacks import ModelCheckpoint,EarlyStopping"
      ]
    },
    {
      "cell_type": "code",
      "source": [
        "# ImageDataGenerator(\n",
        "#     featurewise_center=False,\n",
        "#     samplewise_center=False,\n",
        "#     featurewise_std_normalization=False,\n",
        "#     samplewise_std_normalization=False,\n",
        "#     zca_whitening=False,\n",
        "#     zca_epsilon=1e-06,\n",
        "#     rotation_range=0,\n",
        "#     width_shift_range=0.0,\n",
        "#     height_shift_range=0.0,\n",
        "#     brightness_range=None,\n",
        "#     shear_range=0.0,\n",
        "#     zoom_range=0.0,\n",
        "#     channel_shift_range=0.0,\n",
        "#     fill_mode='nearest',\n",
        "#     cval=0.0,\n",
        "#     horizontal_flip=False,\n",
        "#     vertical_flip=False,\n",
        "#     rescale=None,\n",
        "#     preprocessing_function=None,\n",
        "#     data_format=None,\n",
        "#     validation_split=0.0,\n",
        "#     interpolation_order=1,\n",
        "#     dtype=None\n",
        "# )"
      ],
      "metadata": {
        "id": "qNQtntyeU-yn"
      },
      "execution_count": null,
      "outputs": []
    },
    {
      "cell_type": "code",
      "execution_count": null,
      "metadata": {
        "id": "yNAfBI9BCWCE"
      },
      "outputs": [],
      "source": [
        "train_generator = ImageDataGenerator(\n",
        "    rescale=1./255,\n",
        "    horizontal_flip=True,\n",
        "    width_shift_range=0.2,\n",
        "    height_shift_range=0.2,\n",
        "    validation_split=0.2\n",
        ")"
      ]
    },
    {
      "cell_type": "code",
      "execution_count": null,
      "metadata": {
        "id": "yfSzAi95CV-8"
      },
      "outputs": [],
      "source": [
        "test_generator = ImageDataGenerator(\n",
        "    rescale=1./255\n",
        ")"
      ]
    },
    {
      "cell_type": "code",
      "execution_count": null,
      "metadata": {
        "colab": {
          "base_uri": "https://localhost:8080/",
          "height": 81
        },
        "id": "dg-ak2NvDrjc",
        "outputId": "69062e95-a56b-4a95-f642-b796b79f7b42"
      },
      "outputs": [
        {
          "output_type": "execute_result",
          "data": {
            "text/plain": [
              "                                           File_Name        Labels\n",
              "0  /content/drive/MyDrive/stone_pelting_project/s...  stonepelting"
            ],
            "text/html": [
              "\n",
              "  <div id=\"df-0a71ebde-8a96-4a2e-b7b7-48c10c742b4c\">\n",
              "    <div class=\"colab-df-container\">\n",
              "      <div>\n",
              "<style scoped>\n",
              "    .dataframe tbody tr th:only-of-type {\n",
              "        vertical-align: middle;\n",
              "    }\n",
              "\n",
              "    .dataframe tbody tr th {\n",
              "        vertical-align: top;\n",
              "    }\n",
              "\n",
              "    .dataframe thead th {\n",
              "        text-align: right;\n",
              "    }\n",
              "</style>\n",
              "<table border=\"1\" class=\"dataframe\">\n",
              "  <thead>\n",
              "    <tr style=\"text-align: right;\">\n",
              "      <th></th>\n",
              "      <th>File_Name</th>\n",
              "      <th>Labels</th>\n",
              "    </tr>\n",
              "  </thead>\n",
              "  <tbody>\n",
              "    <tr>\n",
              "      <th>0</th>\n",
              "      <td>/content/drive/MyDrive/stone_pelting_project/s...</td>\n",
              "      <td>stonepelting</td>\n",
              "    </tr>\n",
              "  </tbody>\n",
              "</table>\n",
              "</div>\n",
              "      <button class=\"colab-df-convert\" onclick=\"convertToInteractive('df-0a71ebde-8a96-4a2e-b7b7-48c10c742b4c')\"\n",
              "              title=\"Convert this dataframe to an interactive table.\"\n",
              "              style=\"display:none;\">\n",
              "        \n",
              "  <svg xmlns=\"http://www.w3.org/2000/svg\" height=\"24px\"viewBox=\"0 0 24 24\"\n",
              "       width=\"24px\">\n",
              "    <path d=\"M0 0h24v24H0V0z\" fill=\"none\"/>\n",
              "    <path d=\"M18.56 5.44l.94 2.06.94-2.06 2.06-.94-2.06-.94-.94-2.06-.94 2.06-2.06.94zm-11 1L8.5 8.5l.94-2.06 2.06-.94-2.06-.94L8.5 2.5l-.94 2.06-2.06.94zm10 10l.94 2.06.94-2.06 2.06-.94-2.06-.94-.94-2.06-.94 2.06-2.06.94z\"/><path d=\"M17.41 7.96l-1.37-1.37c-.4-.4-.92-.59-1.43-.59-.52 0-1.04.2-1.43.59L10.3 9.45l-7.72 7.72c-.78.78-.78 2.05 0 2.83L4 21.41c.39.39.9.59 1.41.59.51 0 1.02-.2 1.41-.59l7.78-7.78 2.81-2.81c.8-.78.8-2.07 0-2.86zM5.41 20L4 18.59l7.72-7.72 1.47 1.35L5.41 20z\"/>\n",
              "  </svg>\n",
              "      </button>\n",
              "      \n",
              "  <style>\n",
              "    .colab-df-container {\n",
              "      display:flex;\n",
              "      flex-wrap:wrap;\n",
              "      gap: 12px;\n",
              "    }\n",
              "\n",
              "    .colab-df-convert {\n",
              "      background-color: #E8F0FE;\n",
              "      border: none;\n",
              "      border-radius: 50%;\n",
              "      cursor: pointer;\n",
              "      display: none;\n",
              "      fill: #1967D2;\n",
              "      height: 32px;\n",
              "      padding: 0 0 0 0;\n",
              "      width: 32px;\n",
              "    }\n",
              "\n",
              "    .colab-df-convert:hover {\n",
              "      background-color: #E2EBFA;\n",
              "      box-shadow: 0px 1px 2px rgba(60, 64, 67, 0.3), 0px 1px 3px 1px rgba(60, 64, 67, 0.15);\n",
              "      fill: #174EA6;\n",
              "    }\n",
              "\n",
              "    [theme=dark] .colab-df-convert {\n",
              "      background-color: #3B4455;\n",
              "      fill: #D2E3FC;\n",
              "    }\n",
              "\n",
              "    [theme=dark] .colab-df-convert:hover {\n",
              "      background-color: #434B5C;\n",
              "      box-shadow: 0px 1px 3px 1px rgba(0, 0, 0, 0.15);\n",
              "      filter: drop-shadow(0px 1px 2px rgba(0, 0, 0, 0.3));\n",
              "      fill: #FFFFFF;\n",
              "    }\n",
              "  </style>\n",
              "\n",
              "      <script>\n",
              "        const buttonEl =\n",
              "          document.querySelector('#df-0a71ebde-8a96-4a2e-b7b7-48c10c742b4c button.colab-df-convert');\n",
              "        buttonEl.style.display =\n",
              "          google.colab.kernel.accessAllowed ? 'block' : 'none';\n",
              "\n",
              "        async function convertToInteractive(key) {\n",
              "          const element = document.querySelector('#df-0a71ebde-8a96-4a2e-b7b7-48c10c742b4c');\n",
              "          const dataTable =\n",
              "            await google.colab.kernel.invokeFunction('convertToInteractive',\n",
              "                                                     [key], {});\n",
              "          if (!dataTable) return;\n",
              "\n",
              "          const docLinkHtml = 'Like what you see? Visit the ' +\n",
              "            '<a target=\"_blank\" href=https://colab.research.google.com/notebooks/data_table.ipynb>data table notebook</a>'\n",
              "            + ' to learn more about interactive tables.';\n",
              "          element.innerHTML = '';\n",
              "          dataTable['output_type'] = 'display_data';\n",
              "          await google.colab.output.renderOutput(dataTable, element);\n",
              "          const docLink = document.createElement('div');\n",
              "          docLink.innerHTML = docLinkHtml;\n",
              "          element.appendChild(docLink);\n",
              "        }\n",
              "      </script>\n",
              "    </div>\n",
              "  </div>\n",
              "  "
            ]
          },
          "metadata": {},
          "execution_count": 57
        }
      ],
      "source": [
        "df_train.head(1)"
      ]
    },
    {
      "cell_type": "code",
      "execution_count": null,
      "metadata": {
        "colab": {
          "base_uri": "https://localhost:8080/"
        },
        "id": "LYvjpKZWFEyw",
        "outputId": "0b46bf81-0600-45c0-ca9a-c98218e92c7d"
      },
      "outputs": [
        {
          "output_type": "execute_result",
          "data": {
            "text/plain": [
              "array(['stonepelting', 'nostonepelting'], dtype=object)"
            ]
          },
          "metadata": {},
          "execution_count": 58
        }
      ],
      "source": [
        "df_train['Labels'].unique()"
      ]
    },
    {
      "cell_type": "code",
      "execution_count": null,
      "metadata": {
        "id": "1AjAWmIjE76C"
      },
      "outputs": [],
      "source": [
        "df_train['Labels'] = df_train['Labels'].replace({\"nostonepelting\":0,\"stonepelting\":1})"
      ]
    },
    {
      "cell_type": "code",
      "execution_count": null,
      "metadata": {
        "colab": {
          "base_uri": "https://localhost:8080/",
          "height": 81
        },
        "id": "Dg8a_yNNFNmB",
        "outputId": "b5b9f3c4-5fed-4a89-afe9-456b473d1163"
      },
      "outputs": [
        {
          "output_type": "execute_result",
          "data": {
            "text/plain": [
              "                                           File_Name  Labels\n",
              "0  /content/drive/MyDrive/stone_pelting_project/s...       1"
            ],
            "text/html": [
              "\n",
              "  <div id=\"df-02e386f7-29f0-4ec3-9414-7ccc6e4514ff\">\n",
              "    <div class=\"colab-df-container\">\n",
              "      <div>\n",
              "<style scoped>\n",
              "    .dataframe tbody tr th:only-of-type {\n",
              "        vertical-align: middle;\n",
              "    }\n",
              "\n",
              "    .dataframe tbody tr th {\n",
              "        vertical-align: top;\n",
              "    }\n",
              "\n",
              "    .dataframe thead th {\n",
              "        text-align: right;\n",
              "    }\n",
              "</style>\n",
              "<table border=\"1\" class=\"dataframe\">\n",
              "  <thead>\n",
              "    <tr style=\"text-align: right;\">\n",
              "      <th></th>\n",
              "      <th>File_Name</th>\n",
              "      <th>Labels</th>\n",
              "    </tr>\n",
              "  </thead>\n",
              "  <tbody>\n",
              "    <tr>\n",
              "      <th>0</th>\n",
              "      <td>/content/drive/MyDrive/stone_pelting_project/s...</td>\n",
              "      <td>1</td>\n",
              "    </tr>\n",
              "  </tbody>\n",
              "</table>\n",
              "</div>\n",
              "      <button class=\"colab-df-convert\" onclick=\"convertToInteractive('df-02e386f7-29f0-4ec3-9414-7ccc6e4514ff')\"\n",
              "              title=\"Convert this dataframe to an interactive table.\"\n",
              "              style=\"display:none;\">\n",
              "        \n",
              "  <svg xmlns=\"http://www.w3.org/2000/svg\" height=\"24px\"viewBox=\"0 0 24 24\"\n",
              "       width=\"24px\">\n",
              "    <path d=\"M0 0h24v24H0V0z\" fill=\"none\"/>\n",
              "    <path d=\"M18.56 5.44l.94 2.06.94-2.06 2.06-.94-2.06-.94-.94-2.06-.94 2.06-2.06.94zm-11 1L8.5 8.5l.94-2.06 2.06-.94-2.06-.94L8.5 2.5l-.94 2.06-2.06.94zm10 10l.94 2.06.94-2.06 2.06-.94-2.06-.94-.94-2.06-.94 2.06-2.06.94z\"/><path d=\"M17.41 7.96l-1.37-1.37c-.4-.4-.92-.59-1.43-.59-.52 0-1.04.2-1.43.59L10.3 9.45l-7.72 7.72c-.78.78-.78 2.05 0 2.83L4 21.41c.39.39.9.59 1.41.59.51 0 1.02-.2 1.41-.59l7.78-7.78 2.81-2.81c.8-.78.8-2.07 0-2.86zM5.41 20L4 18.59l7.72-7.72 1.47 1.35L5.41 20z\"/>\n",
              "  </svg>\n",
              "      </button>\n",
              "      \n",
              "  <style>\n",
              "    .colab-df-container {\n",
              "      display:flex;\n",
              "      flex-wrap:wrap;\n",
              "      gap: 12px;\n",
              "    }\n",
              "\n",
              "    .colab-df-convert {\n",
              "      background-color: #E8F0FE;\n",
              "      border: none;\n",
              "      border-radius: 50%;\n",
              "      cursor: pointer;\n",
              "      display: none;\n",
              "      fill: #1967D2;\n",
              "      height: 32px;\n",
              "      padding: 0 0 0 0;\n",
              "      width: 32px;\n",
              "    }\n",
              "\n",
              "    .colab-df-convert:hover {\n",
              "      background-color: #E2EBFA;\n",
              "      box-shadow: 0px 1px 2px rgba(60, 64, 67, 0.3), 0px 1px 3px 1px rgba(60, 64, 67, 0.15);\n",
              "      fill: #174EA6;\n",
              "    }\n",
              "\n",
              "    [theme=dark] .colab-df-convert {\n",
              "      background-color: #3B4455;\n",
              "      fill: #D2E3FC;\n",
              "    }\n",
              "\n",
              "    [theme=dark] .colab-df-convert:hover {\n",
              "      background-color: #434B5C;\n",
              "      box-shadow: 0px 1px 3px 1px rgba(0, 0, 0, 0.15);\n",
              "      filter: drop-shadow(0px 1px 2px rgba(0, 0, 0, 0.3));\n",
              "      fill: #FFFFFF;\n",
              "    }\n",
              "  </style>\n",
              "\n",
              "      <script>\n",
              "        const buttonEl =\n",
              "          document.querySelector('#df-02e386f7-29f0-4ec3-9414-7ccc6e4514ff button.colab-df-convert');\n",
              "        buttonEl.style.display =\n",
              "          google.colab.kernel.accessAllowed ? 'block' : 'none';\n",
              "\n",
              "        async function convertToInteractive(key) {\n",
              "          const element = document.querySelector('#df-02e386f7-29f0-4ec3-9414-7ccc6e4514ff');\n",
              "          const dataTable =\n",
              "            await google.colab.kernel.invokeFunction('convertToInteractive',\n",
              "                                                     [key], {});\n",
              "          if (!dataTable) return;\n",
              "\n",
              "          const docLinkHtml = 'Like what you see? Visit the ' +\n",
              "            '<a target=\"_blank\" href=https://colab.research.google.com/notebooks/data_table.ipynb>data table notebook</a>'\n",
              "            + ' to learn more about interactive tables.';\n",
              "          element.innerHTML = '';\n",
              "          dataTable['output_type'] = 'display_data';\n",
              "          await google.colab.output.renderOutput(dataTable, element);\n",
              "          const docLink = document.createElement('div');\n",
              "          docLink.innerHTML = docLinkHtml;\n",
              "          element.appendChild(docLink);\n",
              "        }\n",
              "      </script>\n",
              "    </div>\n",
              "  </div>\n",
              "  "
            ]
          },
          "metadata": {},
          "execution_count": 60
        }
      ],
      "source": [
        "df_train.head(1)"
      ]
    },
    {
      "cell_type": "code",
      "execution_count": null,
      "metadata": {
        "colab": {
          "base_uri": "https://localhost:8080/"
        },
        "id": "RJMBgBpQDZaj",
        "outputId": "4f3e05ee-9bad-41f1-ad9a-a6d2170d01d4"
      },
      "outputs": [
        {
          "output_type": "stream",
          "name": "stdout",
          "text": [
            "Found 22 validated image filenames.\n"
          ]
        }
      ],
      "source": [
        "train_images = train_generator.flow_from_dataframe(\n",
        "    dataframe=df_train,\n",
        "    x_col='File_Name',\n",
        "    y_col='Labels',\n",
        "    target_size=(224, 224),\n",
        "    color_mode='rgb',\n",
        "    class_mode='raw',\n",
        "    batch_size=4,\n",
        "    shuffle=True,\n",
        "    subset='training'\n",
        ")"
      ]
    },
    {
      "cell_type": "code",
      "execution_count": null,
      "metadata": {
        "colab": {
          "base_uri": "https://localhost:8080/"
        },
        "id": "gKT-JFTvGVgW",
        "outputId": "d415bff3-9895-4b4f-d55b-a7175caab08d"
      },
      "outputs": [
        {
          "output_type": "stream",
          "name": "stdout",
          "text": [
            "Found 5 validated image filenames.\n"
          ]
        }
      ],
      "source": [
        "val_images = train_generator.flow_from_dataframe(\n",
        "    dataframe=df_train,\n",
        "    x_col='File_Name',\n",
        "    y_col='Labels',\n",
        "    target_size=(224, 224),\n",
        "    color_mode='rgb',\n",
        "    class_mode='raw',\n",
        "    batch_size=4,\n",
        "    shuffle=True,\n",
        "    subset='validation'\n",
        ")"
      ]
    },
    {
      "cell_type": "code",
      "execution_count": null,
      "metadata": {
        "colab": {
          "base_uri": "https://localhost:8080/"
        },
        "id": "8Wx8CgpMGjMC",
        "outputId": "83496a71-39d8-48f9-c1da-2b4434ce70f8"
      },
      "outputs": [
        {
          "output_type": "stream",
          "name": "stdout",
          "text": [
            "Found 3 validated image filenames.\n"
          ]
        }
      ],
      "source": [
        "test_images = test_generator.flow_from_dataframe(\n",
        "    dataframe=df_test,\n",
        "    x_col='File_Name',\n",
        "    y_col='Labels',\n",
        "    target_size=(224, 224),\n",
        "    color_mode='rgb',\n",
        "    class_mode='raw',\n",
        "    batch_size=4,\n",
        "    shuffle=True,\n",
        ")"
      ]
    },
    {
      "cell_type": "code",
      "execution_count": null,
      "metadata": {
        "id": "P5ucfURT01ko"
      },
      "outputs": [],
      "source": [
        "# import shutil"
      ]
    },
    {
      "cell_type": "code",
      "execution_count": null,
      "metadata": {
        "id": "C3apyIlI2OqM"
      },
      "outputs": [],
      "source": [
        "# for i in df_train['File_Name']:\n",
        "#   print(i)"
      ]
    },
    {
      "cell_type": "code",
      "execution_count": null,
      "metadata": {
        "id": "uu62d0gO1rqg"
      },
      "outputs": [],
      "source": [
        "# for i in df_train['File_Name']:\n",
        "#   shutil.copy(i,'/content/Training_images/')"
      ]
    },
    {
      "cell_type": "code",
      "execution_count": null,
      "metadata": {
        "id": "eoPzZT5SG5Qg"
      },
      "outputs": [],
      "source": [
        "import tensorflow as tf"
      ]
    },
    {
      "cell_type": "code",
      "execution_count": null,
      "metadata": {
        "id": "u9ZybXbo2VLY"
      },
      "outputs": [],
      "source": [
        "inputs = tf.keras.Input(shape=(224,224,3)) #RGB\n",
        "\n",
        "x = tf.keras.layers.Conv2D(filters=32,kernel_size=(3,3),activation='relu')(inputs)\n",
        "x = tf.keras.layers.MaxPool2D()(x)\n",
        "x = tf.keras.layers.Conv2D(filters=64,kernel_size=(3,3),activation='relu')(x)\n",
        "x = tf.keras.layers.MaxPool2D()(x)\n",
        "x = tf.keras.layers.Flatten()(x)\n",
        "x = tf.keras.layers.Dense(1024,activation='relu')(x)\n",
        "x = tf.keras.layers.Dense(512,activation='relu')(x)\n",
        "out = tf.keras.layers.Dense(1,activation='sigmoid')(x)\n",
        "\n",
        "model = Model(inputs=inputs,outputs=out)"
      ]
    },
    {
      "cell_type": "code",
      "execution_count": null,
      "metadata": {
        "colab": {
          "base_uri": "https://localhost:8080/"
        },
        "id": "yKYpNb9BHyB1",
        "outputId": "c5e818d4-ba77-42a8-aeae-cc2c34feb80a"
      },
      "outputs": [
        {
          "output_type": "stream",
          "name": "stdout",
          "text": [
            "Model: \"model_1\"\n",
            "_________________________________________________________________\n",
            " Layer (type)                Output Shape              Param #   \n",
            "=================================================================\n",
            " input_2 (InputLayer)        [(None, 224, 224, 3)]     0         \n",
            "                                                                 \n",
            " conv2d_2 (Conv2D)           (None, 222, 222, 32)      896       \n",
            "                                                                 \n",
            " max_pooling2d_2 (MaxPooling  (None, 111, 111, 32)     0         \n",
            " 2D)                                                             \n",
            "                                                                 \n",
            " conv2d_3 (Conv2D)           (None, 109, 109, 64)      18496     \n",
            "                                                                 \n",
            " max_pooling2d_3 (MaxPooling  (None, 54, 54, 64)       0         \n",
            " 2D)                                                             \n",
            "                                                                 \n",
            " flatten_1 (Flatten)         (None, 186624)            0         \n",
            "                                                                 \n",
            " dense_3 (Dense)             (None, 1024)              191104000 \n",
            "                                                                 \n",
            " dense_4 (Dense)             (None, 512)               524800    \n",
            "                                                                 \n",
            " dense_5 (Dense)             (None, 1)                 513       \n",
            "                                                                 \n",
            "=================================================================\n",
            "Total params: 191,648,705\n",
            "Trainable params: 191,648,705\n",
            "Non-trainable params: 0\n",
            "_________________________________________________________________\n"
          ]
        }
      ],
      "source": [
        "model.summary()"
      ]
    },
    {
      "cell_type": "code",
      "execution_count": null,
      "metadata": {
        "id": "0d7WiDe8H4TF"
      },
      "outputs": [],
      "source": [
        "model.compile(optimizer='adam',\n",
        "              loss='binary_crossentropy',\n",
        "              metrics=['accuracy'])"
      ]
    },
    {
      "cell_type": "code",
      "execution_count": null,
      "metadata": {
        "id": "epkpNKw9IVw9"
      },
      "outputs": [],
      "source": [
        "checkpoint=ModelCheckpoint('my_model.h5',verbose=1,save_best_only=True)"
      ]
    },
    {
      "cell_type": "code",
      "execution_count": null,
      "metadata": {
        "colab": {
          "base_uri": "https://localhost:8080/"
        },
        "id": "bCW_NkI3IhwP",
        "outputId": "e0ecb773-687d-4cc7-cbed-2a110b19fbaa"
      },
      "outputs": [
        {
          "output_type": "stream",
          "name": "stdout",
          "text": [
            "Epoch 1/10\n",
            "6/6 [==============================] - ETA: 0s - loss: 3.6414 - accuracy: 0.4545\n",
            "Epoch 1: val_loss improved from inf to 1.48589, saving model to my_model.h5\n",
            "6/6 [==============================] - 34s 4s/step - loss: 3.6414 - accuracy: 0.4545 - val_loss: 1.4859 - val_accuracy: 0.4000\n",
            "Epoch 2/10\n",
            "6/6 [==============================] - ETA: 0s - loss: 0.9111 - accuracy: 0.5455\n",
            "Epoch 2: val_loss improved from 1.48589 to 0.71884, saving model to my_model.h5\n",
            "6/6 [==============================] - 10s 2s/step - loss: 0.9111 - accuracy: 0.5455 - val_loss: 0.7188 - val_accuracy: 0.6000\n",
            "Epoch 3/10\n",
            "6/6 [==============================] - ETA: 0s - loss: 0.6790 - accuracy: 0.6364\n",
            "Epoch 3: val_loss improved from 0.71884 to 0.68730, saving model to my_model.h5\n",
            "6/6 [==============================] - 10s 2s/step - loss: 0.6790 - accuracy: 0.6364 - val_loss: 0.6873 - val_accuracy: 0.6000\n",
            "Epoch 4/10\n",
            "6/6 [==============================] - ETA: 0s - loss: 0.6891 - accuracy: 0.6364\n",
            "Epoch 4: val_loss did not improve from 0.68730\n",
            "6/6 [==============================] - 1s 165ms/step - loss: 0.6891 - accuracy: 0.6364 - val_loss: 0.6923 - val_accuracy: 0.6000\n",
            "Epoch 5/10\n",
            "6/6 [==============================] - ETA: 0s - loss: 0.6839 - accuracy: 0.6364\n",
            "Epoch 5: val_loss improved from 0.68730 to 0.68601, saving model to my_model.h5\n",
            "6/6 [==============================] - 10s 2s/step - loss: 0.6839 - accuracy: 0.6364 - val_loss: 0.6860 - val_accuracy: 0.6000\n",
            "Epoch 6/10\n",
            "6/6 [==============================] - ETA: 0s - loss: 0.6734 - accuracy: 0.5909\n",
            "Epoch 6: val_loss improved from 0.68601 to 0.64190, saving model to my_model.h5\n",
            "6/6 [==============================] - 10s 2s/step - loss: 0.6734 - accuracy: 0.5909 - val_loss: 0.6419 - val_accuracy: 0.8000\n",
            "Epoch 7/10\n",
            "6/6 [==============================] - ETA: 0s - loss: 0.6799 - accuracy: 0.6818\n",
            "Epoch 7: val_loss improved from 0.64190 to 0.60883, saving model to my_model.h5\n",
            "6/6 [==============================] - 10s 2s/step - loss: 0.6799 - accuracy: 0.6818 - val_loss: 0.6088 - val_accuracy: 0.6000\n",
            "Epoch 8/10\n",
            "6/6 [==============================] - ETA: 0s - loss: 0.6823 - accuracy: 0.5909\n",
            "Epoch 8: val_loss did not improve from 0.60883\n",
            "6/6 [==============================] - 1s 119ms/step - loss: 0.6823 - accuracy: 0.5909 - val_loss: 0.7651 - val_accuracy: 0.6000\n",
            "Epoch 9/10\n",
            "6/6 [==============================] - ETA: 0s - loss: 0.6556 - accuracy: 0.6364\n",
            "Epoch 9: val_loss did not improve from 0.60883\n",
            "6/6 [==============================] - 1s 139ms/step - loss: 0.6556 - accuracy: 0.6364 - val_loss: 0.7240 - val_accuracy: 0.6000\n",
            "Epoch 10/10\n",
            "6/6 [==============================] - ETA: 0s - loss: 0.6542 - accuracy: 0.6364\n",
            "Epoch 10: val_loss did not improve from 0.60883\n",
            "6/6 [==============================] - 1s 121ms/step - loss: 0.6542 - accuracy: 0.6364 - val_loss: 0.7186 - val_accuracy: 0.6000\n"
          ]
        }
      ],
      "source": [
        "history = model.fit(\n",
        "    train_images,\n",
        "    validation_data=val_images,\n",
        "    epochs=10,\n",
        "    callbacks=[checkpoint]\n",
        ")"
      ]
    },
    {
      "cell_type": "code",
      "execution_count": null,
      "metadata": {
        "id": "VfTan8grI2-N"
      },
      "outputs": [],
      "source": [
        "from imutils import paths\n",
        "from numpy import random\n",
        "import imutils\n",
        "import cv2"
      ]
    },
    {
      "cell_type": "code",
      "execution_count": null,
      "metadata": {
        "id": "auHYbyLQKDAy"
      },
      "outputs": [],
      "source": [
        "stone_pelting = list(paths.list_images('/content/drive/MyDrive/stone_pelting_project/no_stone_pelting'))"
      ]
    },
    {
      "cell_type": "code",
      "execution_count": null,
      "metadata": {
        "id": "gpnN7eJkKfDP"
      },
      "outputs": [],
      "source": [
        "imagepaths = stone_pelting"
      ]
    },
    {
      "cell_type": "code",
      "execution_count": null,
      "metadata": {
        "colab": {
          "base_uri": "https://localhost:8080/"
        },
        "id": "YydSK5-0Kihp",
        "outputId": "c1fea426-b0a6-47a0-b443-44d0eb8da237"
      },
      "outputs": [
        {
          "output_type": "execute_result",
          "data": {
            "text/plain": [
              "['/content/drive/MyDrive/stone_pelting_project/no_stone_pelting/1_rLaMpAivyArSLpGeLHX03g.jpeg',\n",
              " '/content/drive/MyDrive/stone_pelting_project/no_stone_pelting/images.jpg_nostonepelting.jpg_nostonepelting.jpg_nostonepelting.jpg_nostonepelting.jpg',\n",
              " '/content/drive/MyDrive/stone_pelting_project/no_stone_pelting/download.jpg_nostonepelting.jpg_nostonepelting.jpg_nostonepelting.jpg_nostonepelting.jpg',\n",
              " '/content/drive/MyDrive/stone_pelting_project/no_stone_pelting/FARMERS_PROTEST.jpg_nostonepelting.jpg_nostonepelting.jpg_nostonepelting.jpg_nostonepelting.jpg',\n",
              " '/content/drive/MyDrive/stone_pelting_project/no_stone_pelting/images (1).jpg_nostonepelting.jpg_nostonepelting.jpg_nostonepelting.jpg_nostonepelting.jpg',\n",
              " '/content/drive/MyDrive/stone_pelting_project/no_stone_pelting/images (2).jpg_nostonepelting.jpg_nostonepelting.jpg_nostonepelting.jpg_nostonepelting.jpg',\n",
              " '/content/drive/MyDrive/stone_pelting_project/no_stone_pelting/1200px-Car_Crash_7-1-18_2245_(42450608354).jpg_nostonepelting.jpg_nostonepelting.jpg_nostonepelting.jpg_nostonepelting.jpg',\n",
              " '/content/drive/MyDrive/stone_pelting_project/no_stone_pelting/images (3).jpg_nostonepelting.jpg_nostonepelting.jpg_nostonepelting.jpg_nostonepelting.jpg',\n",
              " '/content/drive/MyDrive/stone_pelting_project/no_stone_pelting/istockphoto-1267332085-170667a.jpg_nostonepelting.jpg_nostonepelting.jpg_nostonepelting.jpg_nostonepelting.jpg',\n",
              " '/content/drive/MyDrive/stone_pelting_project/no_stone_pelting/fight.jpg_nostonepelting.jpg_nostonepelting.jpg_nostonepelting.jpg_nostonepelting.jpg',\n",
              " '/content/drive/MyDrive/stone_pelting_project/no_stone_pelting/main-qimg-9d5ac50d5d1dc7cf62eb3d9844b639de.jpg_nostonepelting.jpg_nostonepelting.jpg_nostonepelting.jpg_nostonepelting.jpg',\n",
              " '/content/drive/MyDrive/stone_pelting_project/no_stone_pelting/istockphoto-125556059-612x612.jpg_nostonepelting.jpg_nostonepelting.jpg_nostonepelting.jpg_nostonepelting.jpg',\n",
              " '/content/drive/MyDrive/stone_pelting_project/no_stone_pelting/main-qimg-01d31854552dbf31e5c53af89cbc5ed3-lq.jpg_nostonepelting.jpg_nostonepelting.jpg_nostonepelting.jpg_nostonepelting.jpg']"
            ]
          },
          "metadata": {},
          "execution_count": 79
        }
      ],
      "source": [
        "stone_pelting"
      ]
    },
    {
      "cell_type": "code",
      "execution_count": null,
      "metadata": {
        "id": "7gA06K1iKkK5"
      },
      "outputs": [],
      "source": [
        "random.shuffle(imagepaths)"
      ]
    },
    {
      "cell_type": "code",
      "execution_count": null,
      "metadata": {
        "id": "NDYcdTHvKtX2"
      },
      "outputs": [],
      "source": [
        "classes=['nostonepelting','stonepelting']"
      ]
    },
    {
      "cell_type": "code",
      "execution_count": null,
      "metadata": {
        "colab": {
          "base_uri": "https://localhost:8080/",
          "height": 35
        },
        "id": "FZJn9PIeL2z5",
        "outputId": "57b1eaf9-e021-49e4-dc8c-19efb072c37a"
      },
      "outputs": [
        {
          "output_type": "execute_result",
          "data": {
            "text/plain": [
              "'nostonepelting'"
            ],
            "application/vnd.google.colaboratory.intrinsic+json": {
              "type": "string"
            }
          },
          "metadata": {},
          "execution_count": 82
        }
      ],
      "source": [
        "classes[0]"
      ]
    },
    {
      "cell_type": "code",
      "execution_count": null,
      "metadata": {
        "id": "rR75CAP4NqSp"
      },
      "outputs": [],
      "source": [
        "import numpy as np"
      ]
    },
    {
      "cell_type": "code",
      "execution_count": null,
      "metadata": {
        "id": "1Z2EdxAFK3yz"
      },
      "outputs": [],
      "source": [
        "for (i,imagepath) in enumerate(imagepaths):\n",
        "  image = cv2.imread(imagepath)\n",
        "  output = image.copy()\n",
        "  image = cv2.resize(image,(224,224))\n",
        "  image = image.astype('float32')/255.0\n",
        "\n",
        "  pred = model.predict(np.expand_dims(image,axis=0))[0]\n",
        "  idx = np.argmax(pred)\n",
        "\n",
        "  label = classes[idx]\n",
        "\n",
        "  text = label if label ==\"NoStonePelting\" else \"StonePelting\"\n",
        "  output = imutils.resize(output,width=500)\n",
        "  cv2.putText(output,text,(10,30),cv2.FONT_HERSHEY_TRIPLEX,1,(0,0,255),thickness=2)\n",
        "  filename=\"{}.png\".format(i)\n",
        "  path='noStonepredicted_images01'\n",
        "  if not os.path.isdir(path):\n",
        "\n",
        "    os.makedirs(path)\n",
        "  p=os.path.sep.join([path,filename])\n",
        "  cv2.imwrite(p,output)"
      ]
    },
    {
      "cell_type": "code",
      "execution_count": null,
      "metadata": {
        "id": "JY9a9VjwNo9Z"
      },
      "outputs": [],
      "source": [
        "inputs = tf.keras.Input(shape=(224,224,3)) #RGB\n",
        "\n",
        "x = tf.keras.layers.Conv2D(filters=32,kernel_size=(3,3),activation='relu')(inputs)\n",
        "x = tf.keras.layers.MaxPool2D()(x)\n",
        "x = tf.keras.layers.Conv2D(filters=64,kernel_size=(3,3),activation='relu')(x)\n",
        "x = tf.keras.layers.MaxPool2D()(x)\n",
        "x = tf.keras.layers.Flatten()(x)\n",
        "x = tf.keras.layers.Dense(1024,activation='relu')(x)\n",
        "x = tf.keras.layers.Dense(512,activation='relu')(x)\n",
        "out = tf.keras.layers.Dense(1,activation='sigmoid')(x)\n",
        "\n",
        "model = Model(inputs=inputs,outputs=out)"
      ]
    },
    {
      "cell_type": "code",
      "execution_count": null,
      "metadata": {
        "id": "RuYc_R_7QWJP"
      },
      "outputs": [],
      "source": [
        "model.compile(optimizer='adam',\n",
        "              loss='binary_crossentropy',\n",
        "              metrics=['accuracy'])"
      ]
    },
    {
      "cell_type": "code",
      "execution_count": null,
      "metadata": {
        "id": "SF69GQdbQYAn"
      },
      "outputs": [],
      "source": [
        "model.load_weights('/content/my_model.h5')"
      ]
    },
    {
      "cell_type": "code",
      "execution_count": null,
      "metadata": {
        "id": "xQpO4K2cQfbn"
      },
      "outputs": [],
      "source": [
        "history = model.fit(\n",
        "    train_images,\n",
        "    validation_data=val_images,\n",
        "    epochs=10,\n",
        "    callbacks=[checkpoint]\n",
        ")"
      ]
    },
    {
      "cell_type": "code",
      "execution_count": null,
      "metadata": {
        "id": "vJT8VVdPQ0M6"
      },
      "outputs": [],
      "source": []
    },
    {
      "cell_type": "code",
      "execution_count": null,
      "metadata": {
        "id": "aFMWbm5bRScK"
      },
      "outputs": [],
      "source": []
    },
    {
      "cell_type": "code",
      "execution_count": null,
      "metadata": {
        "id": "TnmuOLjfRSZ1"
      },
      "outputs": [],
      "source": []
    },
    {
      "cell_type": "code",
      "execution_count": null,
      "metadata": {
        "id": "mhFf7JksRSUW"
      },
      "outputs": [],
      "source": []
    },
    {
      "cell_type": "code",
      "execution_count": null,
      "metadata": {
        "id": "4mAE9pvqRSRj"
      },
      "outputs": [],
      "source": []
    }
  ],
  "metadata": {
    "accelerator": "GPU",
    "colab": {
      "machine_shape": "hm",
      "provenance": [],
      "collapsed_sections": []
    },
    "gpuClass": "standard",
    "kernelspec": {
      "display_name": "Python 3",
      "name": "python3"
    },
    "language_info": {
      "name": "python"
    }
  },
  "nbformat": 4,
  "nbformat_minor": 0
}