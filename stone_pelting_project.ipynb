{
  "nbformat": 4,
  "nbformat_minor": 0,
  "metadata": {
    "colab": {
      "name": "stone_pelting_project.ipynb",
      "provenance": []
    },
    "kernelspec": {
      "name": "python3",
      "display_name": "Python 3"
    },
    "language_info": {
      "name": "python"
    },
    "accelerator": "GPU"
  },
  "cells": [
    {
      "cell_type": "code",
      "metadata": {
        "id": "rmP-W5p3PfMj"
      },
      "source": [
        "from sklearn.metrics import confusion_matrix, classification_report\n",
        "import numpy as np\n",
        "import os ,cv2\n",
        "import time\n",
        "from keras.applications.vgg16 import VGG16\n",
        "from keras.preprocessing import image\n",
        "from keras.applications.imagenet_utils import preprocess_input\n",
        "from keras.layers import Dense, Activation, Flatten\n",
        "from keras.layers import merge, Input\n",
        "from keras.models import Model\n",
        "from keras.utils import np_utils\n",
        "from sklearn.utils import shuffle\n",
        "from sklearn.model_selection import train_test_split\n",
        "import numpy as np\n",
        "import matplotlib.pyplot as plt\n",
        "import seaborn as sns\n",
        "from tensorflow.keras.preprocessing.image import ImageDataGenerator\n",
        "import tensorflow as tf\n",
        "from sklearn.metrics import confusion_matrix, classification_report"
      ],
      "execution_count": 7,
      "outputs": []
    },
    {
      "cell_type": "code",
      "metadata": {
        "id": "arvHHAIxRxGy"
      },
      "source": [
        "data_path=('/content/drive/MyDrive/2kashmir_stone_pelting')"
      ],
      "execution_count": 87,
      "outputs": []
    },
    {
      "cell_type": "code",
      "metadata": {
        "id": "wMutMlO6RxIe"
      },
      "source": [
        "data_list=os.listdir(data_path)\n",
        "\n",
        "data_list_dir=[]"
      ],
      "execution_count": 88,
      "outputs": []
    },
    {
      "cell_type": "code",
      "metadata": {
        "colab": {
          "base_uri": "https://localhost:8080/"
        },
        "id": "cKy2yzGuRxLK",
        "outputId": "d36c9992-ff6a-4ca7-cd9a-0eb704c16ad6"
      },
      "source": [
        "for dataset in data_list:\n",
        "  img_data=os.listdir(data_path+'/'+dataset)\n",
        "  print('loading dataset of-'+dataset)\n",
        "  for img in img_data:\n",
        "    img_input=cv2.imread(data_path+'/'+ dataset+'/'+img)\n",
        "    try:\n",
        "      img_input = cv2.resize(img_input, (224,224), interpolation=cv2.INTER_AREA)\n",
        "    except:\n",
        "      break\n",
        "    data_list_dir.append(img_input_resize)"
      ],
      "execution_count": 91,
      "outputs": [
        {
          "output_type": "stream",
          "name": "stdout",
          "text": [
            "loading dataset of-no_stone_pelting\n",
            "loading dataset of-stone_pelting_image\n"
          ]
        }
      ]
    },
    {
      "cell_type": "code",
      "metadata": {
        "id": "O4D4UtsVRxNf"
      },
      "source": [
        "import numpy as np\n",
        "import pandas as pd\n",
        "from pathlib import Path\n",
        "import os.path"
      ],
      "execution_count": 5,
      "outputs": []
    },
    {
      "cell_type": "code",
      "metadata": {
        "id": "FNAULdbIRxT4"
      },
      "source": [
        "image_dir= Path('/content/drive/MyDrive/2kashmir_stone_pelting')"
      ],
      "execution_count": 92,
      "outputs": []
    },
    {
      "cell_type": "code",
      "metadata": {
        "id": "zLgI3F6ESexH"
      },
      "source": [
        "filepaths = list(image_dir.glob(r'**/*.png'))\n",
        "labels = list(map(lambda x: os.path.split(os.path.split(x)[0])[1], filepaths))\n",
        "\n",
        "filepaths = pd.Series(filepaths, name='Filepath').astype(str)\n",
        "labels = pd.Series(labels, name='Label')\n",
        "\n",
        "image_df = pd.concat([filepaths, labels], axis=1)"
      ],
      "execution_count": 93,
      "outputs": []
    },
    {
      "cell_type": "code",
      "metadata": {
        "colab": {
          "base_uri": "https://localhost:8080/",
          "height": 408
        },
        "id": "g2QARr1TpQ4_",
        "outputId": "2a018723-6864-46e9-ee12-c6a15dbf6a21"
      },
      "source": [
        "image_df.head(1153)"
      ],
      "execution_count": 107,
      "outputs": [
        {
          "output_type": "execute_result",
          "data": {
            "text/html": [
              "<div>\n",
              "<style scoped>\n",
              "    .dataframe tbody tr th:only-of-type {\n",
              "        vertical-align: middle;\n",
              "    }\n",
              "\n",
              "    .dataframe tbody tr th {\n",
              "        vertical-align: top;\n",
              "    }\n",
              "\n",
              "    .dataframe thead th {\n",
              "        text-align: right;\n",
              "    }\n",
              "</style>\n",
              "<table border=\"1\" class=\"dataframe\">\n",
              "  <thead>\n",
              "    <tr style=\"text-align: right;\">\n",
              "      <th></th>\n",
              "      <th>Filepath</th>\n",
              "      <th>Label</th>\n",
              "    </tr>\n",
              "  </thead>\n",
              "  <tbody>\n",
              "    <tr>\n",
              "      <th>0</th>\n",
              "      <td>/content/drive/MyDrive/2kashmir_stone_pelting/...</td>\n",
              "      <td>no_stone_pelting</td>\n",
              "    </tr>\n",
              "    <tr>\n",
              "      <th>1</th>\n",
              "      <td>/content/drive/MyDrive/2kashmir_stone_pelting/...</td>\n",
              "      <td>no_stone_pelting</td>\n",
              "    </tr>\n",
              "    <tr>\n",
              "      <th>2</th>\n",
              "      <td>/content/drive/MyDrive/2kashmir_stone_pelting/...</td>\n",
              "      <td>no_stone_pelting</td>\n",
              "    </tr>\n",
              "    <tr>\n",
              "      <th>3</th>\n",
              "      <td>/content/drive/MyDrive/2kashmir_stone_pelting/...</td>\n",
              "      <td>no_stone_pelting</td>\n",
              "    </tr>\n",
              "    <tr>\n",
              "      <th>4</th>\n",
              "      <td>/content/drive/MyDrive/2kashmir_stone_pelting/...</td>\n",
              "      <td>no_stone_pelting</td>\n",
              "    </tr>\n",
              "    <tr>\n",
              "      <th>...</th>\n",
              "      <td>...</td>\n",
              "      <td>...</td>\n",
              "    </tr>\n",
              "    <tr>\n",
              "      <th>1148</th>\n",
              "      <td>/content/drive/MyDrive/2kashmir_stone_pelting/...</td>\n",
              "      <td>no_stone_pelting</td>\n",
              "    </tr>\n",
              "    <tr>\n",
              "      <th>1149</th>\n",
              "      <td>/content/drive/MyDrive/2kashmir_stone_pelting/...</td>\n",
              "      <td>no_stone_pelting</td>\n",
              "    </tr>\n",
              "    <tr>\n",
              "      <th>1150</th>\n",
              "      <td>/content/drive/MyDrive/2kashmir_stone_pelting/...</td>\n",
              "      <td>stone_pelting_image</td>\n",
              "    </tr>\n",
              "    <tr>\n",
              "      <th>1151</th>\n",
              "      <td>/content/drive/MyDrive/2kashmir_stone_pelting/...</td>\n",
              "      <td>stone_pelting_image</td>\n",
              "    </tr>\n",
              "    <tr>\n",
              "      <th>1152</th>\n",
              "      <td>/content/drive/MyDrive/2kashmir_stone_pelting/...</td>\n",
              "      <td>stone_pelting_image</td>\n",
              "    </tr>\n",
              "  </tbody>\n",
              "</table>\n",
              "<p>1153 rows × 2 columns</p>\n",
              "</div>"
            ],
            "text/plain": [
              "                                               Filepath                Label\n",
              "0     /content/drive/MyDrive/2kashmir_stone_pelting/...     no_stone_pelting\n",
              "1     /content/drive/MyDrive/2kashmir_stone_pelting/...     no_stone_pelting\n",
              "2     /content/drive/MyDrive/2kashmir_stone_pelting/...     no_stone_pelting\n",
              "3     /content/drive/MyDrive/2kashmir_stone_pelting/...     no_stone_pelting\n",
              "4     /content/drive/MyDrive/2kashmir_stone_pelting/...     no_stone_pelting\n",
              "...                                                 ...                  ...\n",
              "1148  /content/drive/MyDrive/2kashmir_stone_pelting/...     no_stone_pelting\n",
              "1149  /content/drive/MyDrive/2kashmir_stone_pelting/...     no_stone_pelting\n",
              "1150  /content/drive/MyDrive/2kashmir_stone_pelting/...  stone_pelting_image\n",
              "1151  /content/drive/MyDrive/2kashmir_stone_pelting/...  stone_pelting_image\n",
              "1152  /content/drive/MyDrive/2kashmir_stone_pelting/...  stone_pelting_image\n",
              "\n",
              "[1153 rows x 2 columns]"
            ]
          },
          "metadata": {},
          "execution_count": 107
        }
      ]
    },
    {
      "cell_type": "code",
      "metadata": {
        "id": "kAGvxzGkevDn"
      },
      "source": [
        "#from keras.preprocessing.image import ImageDataGenerator, array_to_img, img_to_array, load_img\n",
        "\n",
        "#datagen = ImageDataGenerator(\n",
        "#        rotation_range=40,\n",
        "#        width_shift_range=0.2,\n",
        " #       height_shift_range=0.2,\n",
        "  #      shear_range=0.2,\n",
        "   #    horizontal_flip=True,\n",
        "    #    fill_mode='nearest')\n",
        "#for i in image_dir_no.glob(r'**/*.png'):\n",
        "  #img = load_img(i)  # this is a PIL image\n",
        "  #x = img_to_array(img)  # this is a Numpy array with shape (3, 150, 150)\n",
        "#  x = x.reshape((1,) + x.shape)  # this is a Numpy array with shape (1, 3, 150, 150)\n",
        "\n",
        "# the .flow() command below generates batches of randomly transformed images\n",
        "# and saves the results to the `preview/` directory\n",
        " # i = 0\n",
        "  #for batch in datagen.flow(x, batch_size=1,\n",
        "   #                         save_to_dir='/content/drive/MyDrive/2kashmir_stone_pelting/no_stone_pelting', save_prefix='no_stone_pelting', save_format='png'):\n",
        "    #  i += 1\n",
        "     # if i > 3:\n",
        "      #    break "
      ],
      "execution_count": 130,
      "outputs": []
    },
    {
      "cell_type": "code",
      "metadata": {
        "colab": {
          "base_uri": "https://localhost:8080/"
        },
        "id": "L-VKKnh-Sne2",
        "outputId": "02c74dd6-9c6a-4a6f-853d-f2738c9789f1"
      },
      "source": [
        "image_df['Label'].value_counts()"
      ],
      "execution_count": 108,
      "outputs": [
        {
          "output_type": "execute_result",
          "data": {
            "text/plain": [
              "no_stone_pelting       1150\n",
              "stone_pelting_image     759\n",
              "Name: Label, dtype: int64"
            ]
          },
          "metadata": {},
          "execution_count": 108
        }
      ]
    },
    {
      "cell_type": "code",
      "metadata": {
        "colab": {
          "base_uri": "https://localhost:8080/"
        },
        "id": "JEp8bNPFUnok",
        "outputId": "6f3df679-34d9-4184-db65-97f35b4c3d05"
      },
      "source": [
        "img_datas=np.array(data_list_dir)\n",
        "img_data=img_datas/255\n",
        "print(img_data.shape)"
      ],
      "execution_count": 109,
      "outputs": [
        {
          "output_type": "stream",
          "name": "stdout",
          "text": [
            "(1254, 224, 224, 3)\n"
          ]
        }
      ]
    },
    {
      "cell_type": "code",
      "metadata": {
        "id": "ziNlJgThUpkv"
      },
      "source": [
        "import keras.backend as k\n",
        "if k.image_data_format == ('channel_last'):\n",
        "  bn_axis=3\n",
        "else:\n",
        "  bn_axis=1"
      ],
      "execution_count": 110,
      "outputs": []
    },
    {
      "cell_type": "code",
      "metadata": {
        "id": "SQVjyfCUUrbt"
      },
      "source": [
        "num_of_samples=img_data.shape[0]"
      ],
      "execution_count": 111,
      "outputs": []
    },
    {
      "cell_type": "code",
      "metadata": {
        "id": "ZBIGt45bUtzj"
      },
      "source": [
        "labels=np.ones((num_of_samples),dtype='int64')"
      ],
      "execution_count": 112,
      "outputs": []
    },
    {
      "cell_type": "code",
      "metadata": {
        "id": "j-Yri-IsUv0c"
      },
      "source": [
        "labels[0:1150]=0\n",
        "labels[1150:]=1\n",
        "names=['no_stone_pelting','stone_pelting']\n",
        "num_classes=2"
      ],
      "execution_count": 113,
      "outputs": []
    },
    {
      "cell_type": "code",
      "metadata": {
        "id": "W7VQ4snuUyK4"
      },
      "source": [
        "Y=np_utils.to_categorical(labels,num_classes)"
      ],
      "execution_count": 114,
      "outputs": []
    },
    {
      "cell_type": "code",
      "metadata": {
        "id": "fspe2ZR2U0oq"
      },
      "source": [
        "x,y = shuffle(img_data,Y, random_state=10)"
      ],
      "execution_count": 115,
      "outputs": []
    },
    {
      "cell_type": "code",
      "metadata": {
        "id": "AZgGzBbXU3-S"
      },
      "source": [
        "X_train, X_test, y_train, y_test = train_test_split(img_data, Y, test_size=0.3, random_state=10)"
      ],
      "execution_count": 116,
      "outputs": []
    },
    {
      "cell_type": "code",
      "metadata": {
        "id": "mjs2TBVaU6dD"
      },
      "source": [
        "from keras.layers import merge, Input\n",
        "import keras\n",
        "from keras.models import Sequential"
      ],
      "execution_count": 117,
      "outputs": []
    },
    {
      "cell_type": "code",
      "metadata": {
        "id": "VD3X0gQnU8Os"
      },
      "source": [
        "image_input=Input(shape=(224,224,3))"
      ],
      "execution_count": 118,
      "outputs": []
    },
    {
      "cell_type": "code",
      "metadata": {
        "id": "0ZzrKPLcU99y"
      },
      "source": [
        "model=VGG16(input_tensor=image_input,include_top=True,weights='imagenet')"
      ],
      "execution_count": 119,
      "outputs": []
    },
    {
      "cell_type": "code",
      "metadata": {
        "id": "EAqOaIOrU_8O"
      },
      "source": [
        "last_layer=model.get_layer('block5_pool').output"
      ],
      "execution_count": 120,
      "outputs": []
    },
    {
      "cell_type": "code",
      "metadata": {
        "id": "REFwFOpDVCYB"
      },
      "source": [
        "\n",
        "from keras.layers import Activation, Dense,Dropout\n",
        "from keras.applications.vgg19 import VGG19"
      ],
      "execution_count": 121,
      "outputs": []
    },
    {
      "cell_type": "code",
      "metadata": {
        "id": "bDIz2nPqVEDj"
      },
      "source": [
        "x=Flatten(name='flatten')(last_layer)\n",
        "x=Dense(4096,activation='relu',name='fc1')(x)\n",
        "x=Dropout(0.25,name='dropout1')(x)\n",
        "x=Dense(4096,activation='relu',name='fc2')(x)\n",
        "x=Dropout(0.25,name='dropout2')(x)\n",
        "out=Dense(2,activation='softmax',name='output')(x)"
      ],
      "execution_count": 122,
      "outputs": []
    },
    {
      "cell_type": "code",
      "metadata": {
        "id": "GZHH1gt4VYTU"
      },
      "source": [
        "custom_vgg_model=Model(image_input,out)"
      ],
      "execution_count": 123,
      "outputs": []
    },
    {
      "cell_type": "code",
      "metadata": {
        "id": "BIzuiiiEVaBn"
      },
      "source": [
        "for layers in custom_vgg_model.layers[:-3]:\n",
        "  layers.trainable=False"
      ],
      "execution_count": 124,
      "outputs": []
    },
    {
      "cell_type": "code",
      "metadata": {
        "colab": {
          "base_uri": "https://localhost:8080/"
        },
        "id": "PlEFsEugVbr4",
        "outputId": "9634333b-13f9-44f8-c7f1-7dc4f9b1ff31"
      },
      "source": [
        "custom_vgg_model.summary()"
      ],
      "execution_count": 125,
      "outputs": [
        {
          "output_type": "stream",
          "name": "stdout",
          "text": [
            "Model: \"model_1\"\n",
            "_________________________________________________________________\n",
            "Layer (type)                 Output Shape              Param #   \n",
            "=================================================================\n",
            "input_2 (InputLayer)         [(None, 224, 224, 3)]     0         \n",
            "_________________________________________________________________\n",
            "block1_conv1 (Conv2D)        (None, 224, 224, 64)      1792      \n",
            "_________________________________________________________________\n",
            "block1_conv2 (Conv2D)        (None, 224, 224, 64)      36928     \n",
            "_________________________________________________________________\n",
            "block1_pool (MaxPooling2D)   (None, 112, 112, 64)      0         \n",
            "_________________________________________________________________\n",
            "block2_conv1 (Conv2D)        (None, 112, 112, 128)     73856     \n",
            "_________________________________________________________________\n",
            "block2_conv2 (Conv2D)        (None, 112, 112, 128)     147584    \n",
            "_________________________________________________________________\n",
            "block2_pool (MaxPooling2D)   (None, 56, 56, 128)       0         \n",
            "_________________________________________________________________\n",
            "block3_conv1 (Conv2D)        (None, 56, 56, 256)       295168    \n",
            "_________________________________________________________________\n",
            "block3_conv2 (Conv2D)        (None, 56, 56, 256)       590080    \n",
            "_________________________________________________________________\n",
            "block3_conv3 (Conv2D)        (None, 56, 56, 256)       590080    \n",
            "_________________________________________________________________\n",
            "block3_pool (MaxPooling2D)   (None, 28, 28, 256)       0         \n",
            "_________________________________________________________________\n",
            "block4_conv1 (Conv2D)        (None, 28, 28, 512)       1180160   \n",
            "_________________________________________________________________\n",
            "block4_conv2 (Conv2D)        (None, 28, 28, 512)       2359808   \n",
            "_________________________________________________________________\n",
            "block4_conv3 (Conv2D)        (None, 28, 28, 512)       2359808   \n",
            "_________________________________________________________________\n",
            "block4_pool (MaxPooling2D)   (None, 14, 14, 512)       0         \n",
            "_________________________________________________________________\n",
            "block5_conv1 (Conv2D)        (None, 14, 14, 512)       2359808   \n",
            "_________________________________________________________________\n",
            "block5_conv2 (Conv2D)        (None, 14, 14, 512)       2359808   \n",
            "_________________________________________________________________\n",
            "block5_conv3 (Conv2D)        (None, 14, 14, 512)       2359808   \n",
            "_________________________________________________________________\n",
            "block5_pool (MaxPooling2D)   (None, 7, 7, 512)         0         \n",
            "_________________________________________________________________\n",
            "flatten (Flatten)            (None, 25088)             0         \n",
            "_________________________________________________________________\n",
            "fc1 (Dense)                  (None, 4096)              102764544 \n",
            "_________________________________________________________________\n",
            "dropout1 (Dropout)           (None, 4096)              0         \n",
            "_________________________________________________________________\n",
            "fc2 (Dense)                  (None, 4096)              16781312  \n",
            "_________________________________________________________________\n",
            "dropout2 (Dropout)           (None, 4096)              0         \n",
            "_________________________________________________________________\n",
            "output (Dense)               (None, 2)                 8194      \n",
            "=================================================================\n",
            "Total params: 134,268,738\n",
            "Trainable params: 16,789,506\n",
            "Non-trainable params: 117,479,232\n",
            "_________________________________________________________________\n"
          ]
        }
      ]
    },
    {
      "cell_type": "code",
      "metadata": {
        "id": "W1FVEZgJVdl0"
      },
      "source": [
        "custom_vgg_model.compile(loss='binary_crossentropy',optimizer='adam',metrics=['accuracy'])"
      ],
      "execution_count": 126,
      "outputs": []
    },
    {
      "cell_type": "code",
      "metadata": {
        "colab": {
          "base_uri": "https://localhost:8080/"
        },
        "id": "K118c7F-Vgys",
        "outputId": "2bb2d7f2-2286-4312-a364-584b169479f1"
      },
      "source": [
        "hist=custom_vgg_model.fit(X_train,y_train,batch_size=64,epochs=5,verbose=2,validation_data=(X_test,y_test))"
      ],
      "execution_count": 129,
      "outputs": [
        {
          "output_type": "stream",
          "name": "stdout",
          "text": [
            "Epoch 1/5\n",
            "14/14 - 9s - loss: 0.2643 - accuracy: 0.9225 - val_loss: 0.3033 - val_accuracy: 0.9045\n",
            "Epoch 2/5\n",
            "14/14 - 9s - loss: 0.2635 - accuracy: 0.9225 - val_loss: 0.2979 - val_accuracy: 0.9045\n",
            "Epoch 3/5\n",
            "14/14 - 9s - loss: 0.2624 - accuracy: 0.9225 - val_loss: 0.2974 - val_accuracy: 0.9045\n",
            "Epoch 4/5\n",
            "14/14 - 9s - loss: 0.2675 - accuracy: 0.9225 - val_loss: 0.2993 - val_accuracy: 0.9045\n",
            "Epoch 5/5\n",
            "14/14 - 9s - loss: 0.2641 - accuracy: 0.9225 - val_loss: 0.2943 - val_accuracy: 0.9045\n"
          ]
        }
      ]
    }
  ]
}